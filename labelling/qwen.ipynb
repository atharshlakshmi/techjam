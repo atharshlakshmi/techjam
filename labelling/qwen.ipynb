{
 "cells": [
  {
   "cell_type": "markdown",
   "id": "f2e66644",
   "metadata": {},
   "source": [
    "### add few shot examples"
   ]
  },
  {
   "cell_type": "code",
   "execution_count": null,
   "id": "192d8dc9",
   "metadata": {},
   "outputs": [],
   "source": [
    "import os\n",
    "import pandas as pd\n",
    "from huggingface_hub import InferenceClient\n",
    "\n",
    "data_path = \"../data/clean_data.csv\"\n",
    "df = pd.read_csv(data_path)\n",
    "\n",
    "df2 = df.head(10).copy()\n",
    "json_str = df2.to_json(orient='records')\n",
    "\n",
    "client = InferenceClient(\n",
    "    provider=\"nscale\",\n",
    "    api_key=os.environ[\"HF_TOKEN\"],\n",
    ")\n",
    "\n",
    "completion = client.chat.completions.create(\n",
    "    model=\"Qwen/Qwen3-4B-Instruct-2507\",\n",
    "    messages=[\n",
    "        {\n",
    "            \"role\": \"user\",\n",
    "            \"content\": \n",
    "            f'''\n",
    "            \n",
    "            I will give you a list of reviews of restaurants and you need to label the reviews as one of the categories below\n",
    "            1. Advertisement\n",
    "            2. Irrelevant\n",
    "            3. Rant\n",
    "            4. Normal\n",
    "            Edit this JSON file and add one column for labels as \"labels\": {json_str}\n",
    "            Only return the JSON.\n",
    "            \n",
    "            '''\n",
    "        }\n",
    "    ],\n",
    ")\n",
    "\n",
    "dataFrame = pd.read_json(completion.choices[0].message[\"content\"])"
   ]
  }
 ],
 "metadata": {
  "kernelspec": {
   "display_name": "venv",
   "language": "python",
   "name": "python3"
  },
  "language_info": {
   "codemirror_mode": {
    "name": "ipython",
    "version": 3
   },
   "file_extension": ".py",
   "mimetype": "text/x-python",
   "name": "python",
   "nbconvert_exporter": "python",
   "pygments_lexer": "ipython3",
   "version": "3.12.4"
  }
 },
 "nbformat": 4,
 "nbformat_minor": 5
}
