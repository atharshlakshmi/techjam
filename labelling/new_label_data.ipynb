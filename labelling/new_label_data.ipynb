{
 "cells": [
  {
   "cell_type": "markdown",
   "id": "e94baf4f",
   "metadata": {},
   "source": [
    "### Import Required Packages"
   ]
  },
  {
   "cell_type": "code",
   "execution_count": 26,
   "id": "5ecead18",
   "metadata": {},
   "outputs": [],
   "source": [
    "from huggingface_hub import InferenceClient\n",
    "import os\n",
    "import pandas as pd"
   ]
  },
  {
   "cell_type": "markdown",
   "id": "2b549352",
   "metadata": {},
   "source": [
    "### Intialize Inference Client"
   ]
  },
  {
   "cell_type": "code",
   "execution_count": 27,
   "id": "93f9af05",
   "metadata": {},
   "outputs": [],
   "source": [
    "client = InferenceClient(\n",
    "    provider=\"nscale\",\n",
    "    api_key=os.environ[\"HF_TOKEN\"],\n",
    ")"
   ]
  },
  {
   "cell_type": "markdown",
   "id": "a4dcfafa",
   "metadata": {},
   "source": [
    "### Batch Prompt with Review, Features, and Policy Label"
   ]
  },
  {
   "cell_type": "code",
   "execution_count": 28,
   "id": "da2cff8a",
   "metadata": {},
   "outputs": [],
   "source": [
    "def generate_batch_prompt_with_policy(reviews, features_list, policy_labels):\n",
    "    # Start with the few-shot examples\n",
    "    prompt = \"\"\"\n",
    "    Here are a few examples of reviews classified by type:\n",
    "\n",
    "    Example 1: \n",
    "    Review: \"The food was absolutely DISGUSTING and the service was HORRIBLE! NEVER COMING BACK!!!\"\n",
    "    Features: Review Length: 65, Sentiment: -0.9, Confidence Score: 0.95, Relevancy Score: 0.85, Caps Ratio: 0.35, Policy Label: compliant\n",
    "    Label: Rant\n",
    "\n",
    "    Example 2:\n",
    "    Review: \"🔥 LIMITED TIME OFFER 🔥 Get 50% OFF with code PROMO2024! Visit our website now!\"\n",
    "    Features: Review Length: 55, Sentiment: 0.1, Confidence Score: 0.6, Relevancy Score: 0.3, Caps Ratio: 0.25, Policy Label: non-compliant\n",
    "    Label: Ad\n",
    "\n",
    "    Example 3:\n",
    "    Review: \"The steak was perfectly cooked and the wine pairing was excellent. Service was attentive but not intrusive.\"\n",
    "    Features: Review Length: 85, Sentiment: 0.85, Confidence Score: 0.92, Relevancy Score: 0.95, Caps Ratio: 0.0, Policy Label: compliant\n",
    "    Label: Valid\n",
    "\n",
    "    Example 4:\n",
    "    Review: \"I think it might rain tomorrow. Should I bring an umbrella?\"\n",
    "    Features: Review Length: 45, Sentiment: 0.0, Confidence Score: 0.4, Relevancy Score: 0.1, Caps Ratio: 0.0, Policy Label: compliant\n",
    "    Label: Irrelevant\n",
    "\n",
    "    Example 5:\n",
    "    Review: \"OMG this place changed my LIFE! The ambiance, the food, everything was PERFECT! 😍✨\"\n",
    "    Features: Review Length: 40, Sentiment: 0.95, Confidence Score: 0.88, Relevancy Score: 0.8, Caps Ratio: 0.2, Policy Label: compliant\n",
    "    Label: Emotional\n",
    "\n",
    "    Example 6:\n",
    "    Review: \"Check out my YouTube channel for more reviews! Like and subscribe!\"\n",
    "    Features: Review Length: 50, Sentiment: 0.2, Confidence Score: 0.5, Relevancy Score: 0.2, Caps Ratio: 0.15, Policy Label: non-compliant\n",
    "    Label: Spam\n",
    "\n",
    "\n",
    "    Now, classify the following reviews based on their content, features, and policy labels. Possible labels are: Valid, Rant, Ad, Spam, Irrelevant.\n",
    "    \"\"\"\n",
    "\n",
    "    # Add reviews with their features and policy labels\n",
    "    for i, review in enumerate(reviews):\n",
    "        features = features_list[i]\n",
    "        policy_label = policy_labels[i]\n",
    "        prompt += f\"\"\"\n",
    "        \n",
    "        Review: \"{review}\"\n",
    "        Features: Review Length: {features['review_length']}, Sentiment: {features['sentiment']}, Confidence Score: {features['confidence_score']}, Relevancy Score: {features['relevancy_score']}, Caps Ratio: {features['all_caps_ratio']}, Policy Label: {policy_label}\n",
    "        Label:\n",
    "        \"\"\"\n",
    "\n",
    "    return prompt"
   ]
  },
  {
   "cell_type": "markdown",
   "id": "a1b08ff3",
   "metadata": {},
   "source": [
    "### Classify Reviews in Batches"
   ]
  },
  {
   "cell_type": "code",
   "execution_count": 29,
   "id": "cd5d1475",
   "metadata": {},
   "outputs": [],
   "source": [
    "def classify_batch_with_qwen(reviews, features_list, policy_labels):\n",
    "    prompt = generate_batch_prompt_with_policy(reviews, features_list, policy_labels)\n",
    "    response = client.chat.completions.create(\n",
    "        model=\"Qwen/Qwen3-4B-Instruct-2507\",\n",
    "        messages=[{\"role\": \"user\", \"content\": prompt}],\n",
    "        temperature=0\n",
    "    )\n",
    "    labels = [choice.message['content'].strip() for choice in response.choices]\n",
    "    return labels\n",
    "\n",
    "def label_reviews_batch(df):\n",
    "    reviews = df['cleaned_review_text'].tolist()\n",
    "    features_list = df[['review_length', 'sentiment', 'confidence_score', 'relevancy_score', 'all_caps_ratio']].to_dict(orient='records')\n",
    "    policy_labels = df['policy_label'].tolist()\n",
    "    \n",
    "    # Get batch labels\n",
    "    labels = classify_batch_with_qwen(reviews, features_list, policy_labels)\n",
    "    \n",
    "    # Assign predicted labels to the DataFrame\n",
    "    df['predicted_label'] = labels\n",
    "    return df"
   ]
  },
  {
   "cell_type": "markdown",
   "id": "aca8c22e",
   "metadata": {},
   "source": [
    "### Execute on a small batch"
   ]
  },
  {
   "cell_type": "code",
   "execution_count": 30,
   "id": "de041dc5",
   "metadata": {},
   "outputs": [
    {
     "ename": "ValueError",
     "evalue": "Length of values (1) does not match length of index (20)",
     "output_type": "error",
     "traceback": [
      "\u001b[31m---------------------------------------------------------------------------\u001b[39m",
      "\u001b[31mValueError\u001b[39m                                Traceback (most recent call last)",
      "\u001b[36mCell\u001b[39m\u001b[36m \u001b[39m\u001b[32mIn[30]\u001b[39m\u001b[32m, line 4\u001b[39m\n\u001b[32m      1\u001b[39m data_path = \u001b[33m'\u001b[39m\u001b[33m../data/featured/reviews_with_features.csv\u001b[39m\u001b[33m'\u001b[39m\n\u001b[32m      2\u001b[39m df = pd.read_csv(data_path).head(\u001b[32m20\u001b[39m)\n\u001b[32m----> \u001b[39m\u001b[32m4\u001b[39m labeled_data_batch = \u001b[43mlabel_reviews_batch\u001b[49m\u001b[43m(\u001b[49m\u001b[43mdf\u001b[49m\u001b[43m)\u001b[49m\n\u001b[32m      6\u001b[39m \u001b[38;5;66;03m# Save the results to a CSV file\u001b[39;00m\n\u001b[32m      7\u001b[39m labeled_data_batch.to_csv(\u001b[33m'\u001b[39m\u001b[33mlabeled_reviews_batch_with_qwen.csv\u001b[39m\u001b[33m'\u001b[39m, index=\u001b[38;5;28;01mFalse\u001b[39;00m)\n",
      "\u001b[36mCell\u001b[39m\u001b[36m \u001b[39m\u001b[32mIn[29]\u001b[39m\u001b[32m, line 20\u001b[39m, in \u001b[36mlabel_reviews_batch\u001b[39m\u001b[34m(df)\u001b[39m\n\u001b[32m     17\u001b[39m labels = classify_batch_with_qwen(reviews, features_list, policy_labels)\n\u001b[32m     19\u001b[39m \u001b[38;5;66;03m# Assign predicted labels to the DataFrame\u001b[39;00m\n\u001b[32m---> \u001b[39m\u001b[32m20\u001b[39m \u001b[43mdf\u001b[49m\u001b[43m[\u001b[49m\u001b[33;43m'\u001b[39;49m\u001b[33;43mpredicted_label\u001b[39;49m\u001b[33;43m'\u001b[39;49m\u001b[43m]\u001b[49m = labels\n\u001b[32m     21\u001b[39m \u001b[38;5;28;01mreturn\u001b[39;00m df\n",
      "\u001b[36mFile \u001b[39m\u001b[32m~/techjam/.venv/lib/python3.13/site-packages/pandas/core/frame.py:4316\u001b[39m, in \u001b[36mDataFrame.__setitem__\u001b[39m\u001b[34m(self, key, value)\u001b[39m\n\u001b[32m   4313\u001b[39m     \u001b[38;5;28mself\u001b[39m._setitem_array([key], value)\n\u001b[32m   4314\u001b[39m \u001b[38;5;28;01melse\u001b[39;00m:\n\u001b[32m   4315\u001b[39m     \u001b[38;5;66;03m# set column\u001b[39;00m\n\u001b[32m-> \u001b[39m\u001b[32m4316\u001b[39m     \u001b[38;5;28;43mself\u001b[39;49m\u001b[43m.\u001b[49m\u001b[43m_set_item\u001b[49m\u001b[43m(\u001b[49m\u001b[43mkey\u001b[49m\u001b[43m,\u001b[49m\u001b[43m \u001b[49m\u001b[43mvalue\u001b[49m\u001b[43m)\u001b[49m\n",
      "\u001b[36mFile \u001b[39m\u001b[32m~/techjam/.venv/lib/python3.13/site-packages/pandas/core/frame.py:4529\u001b[39m, in \u001b[36mDataFrame._set_item\u001b[39m\u001b[34m(self, key, value)\u001b[39m\n\u001b[32m   4519\u001b[39m \u001b[38;5;28;01mdef\u001b[39;00m\u001b[38;5;250m \u001b[39m\u001b[34m_set_item\u001b[39m(\u001b[38;5;28mself\u001b[39m, key, value) -> \u001b[38;5;28;01mNone\u001b[39;00m:\n\u001b[32m   4520\u001b[39m \u001b[38;5;250m    \u001b[39m\u001b[33;03m\"\"\"\u001b[39;00m\n\u001b[32m   4521\u001b[39m \u001b[33;03m    Add series to DataFrame in specified column.\u001b[39;00m\n\u001b[32m   4522\u001b[39m \n\u001b[32m   (...)\u001b[39m\u001b[32m   4527\u001b[39m \u001b[33;03m    ensure homogeneity.\u001b[39;00m\n\u001b[32m   4528\u001b[39m \u001b[33;03m    \"\"\"\u001b[39;00m\n\u001b[32m-> \u001b[39m\u001b[32m4529\u001b[39m     value, refs = \u001b[38;5;28;43mself\u001b[39;49m\u001b[43m.\u001b[49m\u001b[43m_sanitize_column\u001b[49m\u001b[43m(\u001b[49m\u001b[43mvalue\u001b[49m\u001b[43m)\u001b[49m\n\u001b[32m   4531\u001b[39m     \u001b[38;5;28;01mif\u001b[39;00m (\n\u001b[32m   4532\u001b[39m         key \u001b[38;5;129;01min\u001b[39;00m \u001b[38;5;28mself\u001b[39m.columns\n\u001b[32m   4533\u001b[39m         \u001b[38;5;129;01mand\u001b[39;00m value.ndim == \u001b[32m1\u001b[39m\n\u001b[32m   4534\u001b[39m         \u001b[38;5;129;01mand\u001b[39;00m \u001b[38;5;129;01mnot\u001b[39;00m \u001b[38;5;28misinstance\u001b[39m(value.dtype, ExtensionDtype)\n\u001b[32m   4535\u001b[39m     ):\n\u001b[32m   4536\u001b[39m         \u001b[38;5;66;03m# broadcast across multiple columns if necessary\u001b[39;00m\n\u001b[32m   4537\u001b[39m         \u001b[38;5;28;01mif\u001b[39;00m \u001b[38;5;129;01mnot\u001b[39;00m \u001b[38;5;28mself\u001b[39m.columns.is_unique \u001b[38;5;129;01mor\u001b[39;00m \u001b[38;5;28misinstance\u001b[39m(\u001b[38;5;28mself\u001b[39m.columns, MultiIndex):\n",
      "\u001b[36mFile \u001b[39m\u001b[32m~/techjam/.venv/lib/python3.13/site-packages/pandas/core/frame.py:5273\u001b[39m, in \u001b[36mDataFrame._sanitize_column\u001b[39m\u001b[34m(self, value)\u001b[39m\n\u001b[32m   5270\u001b[39m     \u001b[38;5;28;01mreturn\u001b[39;00m _reindex_for_setitem(value, \u001b[38;5;28mself\u001b[39m.index)\n\u001b[32m   5272\u001b[39m \u001b[38;5;28;01mif\u001b[39;00m is_list_like(value):\n\u001b[32m-> \u001b[39m\u001b[32m5273\u001b[39m     \u001b[43mcom\u001b[49m\u001b[43m.\u001b[49m\u001b[43mrequire_length_match\u001b[49m\u001b[43m(\u001b[49m\u001b[43mvalue\u001b[49m\u001b[43m,\u001b[49m\u001b[43m \u001b[49m\u001b[38;5;28;43mself\u001b[39;49m\u001b[43m.\u001b[49m\u001b[43mindex\u001b[49m\u001b[43m)\u001b[49m\n\u001b[32m   5274\u001b[39m arr = sanitize_array(value, \u001b[38;5;28mself\u001b[39m.index, copy=\u001b[38;5;28;01mTrue\u001b[39;00m, allow_2d=\u001b[38;5;28;01mTrue\u001b[39;00m)\n\u001b[32m   5275\u001b[39m \u001b[38;5;28;01mif\u001b[39;00m (\n\u001b[32m   5276\u001b[39m     \u001b[38;5;28misinstance\u001b[39m(value, Index)\n\u001b[32m   5277\u001b[39m     \u001b[38;5;129;01mand\u001b[39;00m value.dtype == \u001b[33m\"\u001b[39m\u001b[33mobject\u001b[39m\u001b[33m\"\u001b[39m\n\u001b[32m   (...)\u001b[39m\u001b[32m   5280\u001b[39m     \u001b[38;5;66;03m# TODO: Remove kludge in sanitize_array for string mode when enforcing\u001b[39;00m\n\u001b[32m   5281\u001b[39m     \u001b[38;5;66;03m# this deprecation\u001b[39;00m\n",
      "\u001b[36mFile \u001b[39m\u001b[32m~/techjam/.venv/lib/python3.13/site-packages/pandas/core/common.py:573\u001b[39m, in \u001b[36mrequire_length_match\u001b[39m\u001b[34m(data, index)\u001b[39m\n\u001b[32m    569\u001b[39m \u001b[38;5;250m\u001b[39m\u001b[33;03m\"\"\"\u001b[39;00m\n\u001b[32m    570\u001b[39m \u001b[33;03mCheck the length of data matches the length of the index.\u001b[39;00m\n\u001b[32m    571\u001b[39m \u001b[33;03m\"\"\"\u001b[39;00m\n\u001b[32m    572\u001b[39m \u001b[38;5;28;01mif\u001b[39;00m \u001b[38;5;28mlen\u001b[39m(data) != \u001b[38;5;28mlen\u001b[39m(index):\n\u001b[32m--> \u001b[39m\u001b[32m573\u001b[39m     \u001b[38;5;28;01mraise\u001b[39;00m \u001b[38;5;167;01mValueError\u001b[39;00m(\n\u001b[32m    574\u001b[39m         \u001b[33m\"\u001b[39m\u001b[33mLength of values \u001b[39m\u001b[33m\"\u001b[39m\n\u001b[32m    575\u001b[39m         \u001b[33mf\u001b[39m\u001b[33m\"\u001b[39m\u001b[33m(\u001b[39m\u001b[38;5;132;01m{\u001b[39;00m\u001b[38;5;28mlen\u001b[39m(data)\u001b[38;5;132;01m}\u001b[39;00m\u001b[33m) \u001b[39m\u001b[33m\"\u001b[39m\n\u001b[32m    576\u001b[39m         \u001b[33m\"\u001b[39m\u001b[33mdoes not match length of index \u001b[39m\u001b[33m\"\u001b[39m\n\u001b[32m    577\u001b[39m         \u001b[33mf\u001b[39m\u001b[33m\"\u001b[39m\u001b[33m(\u001b[39m\u001b[38;5;132;01m{\u001b[39;00m\u001b[38;5;28mlen\u001b[39m(index)\u001b[38;5;132;01m}\u001b[39;00m\u001b[33m)\u001b[39m\u001b[33m\"\u001b[39m\n\u001b[32m    578\u001b[39m     )\n",
      "\u001b[31mValueError\u001b[39m: Length of values (1) does not match length of index (20)"
     ]
    }
   ],
   "source": [
    "data_path = '../data/featured/reviews_with_features.csv'\n",
    "df = pd.read_csv(data_path).head(20)\n",
    "\n",
    "labeled_data_batch = label_reviews_batch(df)\n",
    "\n",
    "# Save the results to a CSV file\n",
    "labeled_data_batch.to_csv('labeled_reviews_batch_with_qwen.csv', index=False)"
   ]
  }
 ],
 "metadata": {
  "kernelspec": {
   "display_name": ".venv (3.13.3)",
   "language": "python",
   "name": "python3"
  },
  "language_info": {
   "codemirror_mode": {
    "name": "ipython",
    "version": 3
   },
   "file_extension": ".py",
   "mimetype": "text/x-python",
   "name": "python",
   "nbconvert_exporter": "python",
   "pygments_lexer": "ipython3",
   "version": "3.13.3"
  }
 },
 "nbformat": 4,
 "nbformat_minor": 5
}
