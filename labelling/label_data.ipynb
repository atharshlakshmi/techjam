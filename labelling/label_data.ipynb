{
 "cells": [
  {
   "cell_type": "markdown",
   "id": "846cf234",
   "metadata": {},
   "source": [
    "### Import Required Packages"
   ]
  },
  {
   "cell_type": "code",
   "execution_count": 1,
   "id": "c03bc119",
   "metadata": {},
   "outputs": [
    {
     "name": "stderr",
     "output_type": "stream",
     "text": [
      "/Users/vaisiyabalakrishnan/techjam/.venv/lib/python3.13/site-packages/tqdm/auto.py:21: TqdmWarning: IProgress not found. Please update jupyter and ipywidgets. See https://ipywidgets.readthedocs.io/en/stable/user_install.html\n",
      "  from .autonotebook import tqdm as notebook_tqdm\n"
     ]
    }
   ],
   "source": [
    "import os\n",
    "from huggingface_hub import InferenceClient\n",
    "import pandas as pd"
   ]
  },
  {
   "cell_type": "markdown",
   "id": "14d5f3b1",
   "metadata": {},
   "source": [
    "### Initialize the Inference Client"
   ]
  },
  {
   "cell_type": "code",
   "execution_count": 2,
   "id": "b6b5ea20",
   "metadata": {},
   "outputs": [],
   "source": [
    "client = InferenceClient(\n",
    "    provider=\"nscale\",\n",
    "    api_key=os.environ[\"HF_TOKEN\"],\n",
    ")"
   ]
  },
  {
   "cell_type": "markdown",
   "id": "17d84107",
   "metadata": {},
   "source": [
    "### Few-shot Examples"
   ]
  },
  {
   "cell_type": "code",
   "execution_count": 3,
   "id": "859ffc0a",
   "metadata": {},
   "outputs": [],
   "source": [
    "FEW_SHOT_EXAMPLES = \"\"\"\n",
    "You are a system that classifies Google location reviews into one of four categories:\n",
    "- Ad: Promotional or advertisement content.\n",
    "- Rant: Angry or exaggerated complaints, often with excessive punctuation or all-caps.\n",
    "- Irrelevant: Not related to the location being reviewed.\n",
    "- Valid: A genuine and relevant review about the location.\n",
    "\n",
    "Examples:\n",
    "Review: \"Best pizza in town! Fresh ingredients and great service.\"\n",
    "Label: Valid\n",
    "\n",
    "Review: \"BUY ONE GET ONE FREE! Come to my shop now, limited offer!\"\n",
    "Label: Ad\n",
    "\n",
    "Review: \"THIS PLACE IS THE WORST!!! NEVER COMING BACK. HORRIBLE SERVICE!!!!!\"\n",
    "Label: Rant\n",
    "\n",
    "Review: \"I think the government is doing a terrible job with taxes.\"\n",
    "Label: Irrelevant\n",
    "\"\"\""
   ]
  },
  {
   "cell_type": "markdown",
   "id": "216c219e",
   "metadata": {},
   "source": [
    "### Batch Classification Prompt"
   ]
  },
  {
   "cell_type": "code",
   "execution_count": 4,
   "id": "40bf40b6",
   "metadata": {},
   "outputs": [],
   "source": [
    "def create_batch_prompt(reviews):\n",
    "    reviews_list = \"\\n\".join(\n",
    "        [f\"Review {i+1}: {r}\" for i, r in enumerate(reviews)]\n",
    "    )\n",
    "    return f\"\"\"{FEW_SHOT_EXAMPLES}\n",
    "    Now classify the following reviews:\n",
    "    {reviews_list}\n",
    "\n",
    "    Output format:\n",
    "    Review 1: <Label>\n",
    "    Review 2: <Label>\n",
    "    ...\n",
    "    \"\"\""
   ]
  },
  {
   "cell_type": "markdown",
   "id": "13b14130",
   "metadata": {},
   "source": [
    "### Classify Reviews in Batches"
   ]
  },
  {
   "cell_type": "code",
   "execution_count": 5,
   "id": "510e2113",
   "metadata": {},
   "outputs": [],
   "source": [
    "def classify_batch(reviews):\n",
    "    prompt = create_batch_prompt(reviews)\n",
    "    response = client.chat.completions.create(\n",
    "        model=\"Qwen/Qwen3-4B-Instruct-2507\",\n",
    "        messages=[{\"role\": \"user\", \"content\": prompt}],\n",
    "        temperature=0\n",
    "    )\n",
    "    return response.choices[0].message[\"content\"]"
   ]
  },
  {
   "cell_type": "markdown",
   "id": "e4c7271b",
   "metadata": {},
   "source": [
    "### Label Combined Dataset"
   ]
  },
  {
   "cell_type": "code",
   "execution_count": 6,
   "id": "214d8583",
   "metadata": {},
   "outputs": [],
   "source": [
    "def label_reviews(df, text_col=\"review_text\", batch_size=10, max_reviews=100):\n",
    "    labeled = []\n",
    "    reviews = df[text_col].astype(str).tolist()[:max_reviews]\n",
    "    \n",
    "    for i in range(0, len(reviews), batch_size):\n",
    "        batch = reviews[i:i+batch_size]\n",
    "        output = classify_batch(batch)\n",
    "\n",
    "        # Parse output: expects \"Review 1: Valid\" style\n",
    "        for line in output.splitlines():\n",
    "            if line.strip() and line.startswith(\"Review\"):\n",
    "                try:\n",
    "                    idx, label = line.split(\":\", 1)\n",
    "                    labeled.append(label.strip())\n",
    "                except:\n",
    "                    labeled.append(\"Unknown\")\n",
    "        \n",
    "        print(f\"Processed {i+len(batch)} / {len(reviews)}\")\n",
    "    \n",
    "    df = df.iloc[:max_reviews].copy()\n",
    "    df[\"label\"] = labeled\n",
    "    return df"
   ]
  },
  {
   "cell_type": "markdown",
   "id": "ee931cd0",
   "metadata": {},
   "source": [
    "### Label Some of Cleaned Combined Data"
   ]
  },
  {
   "cell_type": "code",
   "execution_count": 7,
   "id": "2e6ca089",
   "metadata": {},
   "outputs": [
    {
     "name": "stdout",
     "output_type": "stream",
     "text": [
      "Processed 10 / 50\n",
      "Processed 20 / 50\n",
      "Processed 30 / 50\n",
      "Processed 40 / 50\n",
      "Processed 50 / 50\n"
     ]
    }
   ],
   "source": [
    "data_path = \"../data/clean/cleaned_combined_reviews.csv\"\n",
    "df = pd.read_csv(data_path)\n",
    "cleaned_df = df.copy()\n",
    "labeled_df = label_reviews(df, batch_size=10, max_reviews=50)\n",
    "labeled_df.to_csv(\"../data/label/labeled_combined_reviews.csv\", index=False)"
   ]
  }
 ],
 "metadata": {
  "kernelspec": {
   "display_name": ".venv (3.13.3)",
   "language": "python",
   "name": "python3"
  },
  "language_info": {
   "codemirror_mode": {
    "name": "ipython",
    "version": 3
   },
   "file_extension": ".py",
   "mimetype": "text/x-python",
   "name": "python",
   "nbconvert_exporter": "python",
   "pygments_lexer": "ipython3",
   "version": "3.13.3"
  }
 },
 "nbformat": 4,
 "nbformat_minor": 5
}
