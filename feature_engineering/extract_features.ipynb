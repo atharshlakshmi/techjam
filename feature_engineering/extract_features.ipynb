{
 "cells": [
  {
   "cell_type": "code",
   "execution_count": null,
   "id": "cf1533f7",
   "metadata": {},
   "outputs": [],
   "source": [
    "import pandas as pd\n",
    "\n",
    "df = pd.read_csv(\"../data/clean/cleaned_combined_reviews.csv\")\n",
    "df.info()"
   ]
  },
  {
   "cell_type": "code",
   "execution_count": null,
   "id": "b4f0d5a2",
   "metadata": {},
   "outputs": [],
   "source": [
    "# Convert 'user_name' and 'review_text' to string type\n",
    "df['user_name'] = df['user_name'].astype(str)\n",
    "df['review_text'] = df['review_text'].astype(str)"
   ]
  },
  {
   "cell_type": "markdown",
   "id": "f735f2f3",
   "metadata": {},
   "source": [
    "### Review Length\n",
    "The review length could let us categorise very short reviews as irrelevant. Long reviews could potentially be rants."
   ]
  },
  {
   "cell_type": "code",
   "execution_count": null,
   "id": "202d6209",
   "metadata": {},
   "outputs": [],
   "source": [
    "df[\"review_length\"] = df[\"review_text\"].apply(len)\n",
    "df.head(10)"
   ]
  },
  {
   "cell_type": "markdown",
   "id": "a9faf962",
   "metadata": {},
   "source": [
    "### Tokenize Review Text\n",
    "This is for training the ML model."
   ]
  },
  {
   "cell_type": "code",
   "execution_count": null,
   "id": "845f0274",
   "metadata": {},
   "outputs": [],
   "source": [
    "import spacy\n",
    "\n",
    "nlp = spacy.load(\"en_core_web_sm\")\n",
    "\n",
    "df2 = df.copy().head(100)  # Using a smaller subset for demonstration\n",
    "\n",
    "tokens_list = []\n",
    "for text in df2[\"review_text\"]:\n",
    "    doc = nlp(text)\n",
    "    tokens_list.append([token.text for token in doc])\n",
    "\n",
    "df2[\"tokens\"] = tokens_list\n",
    "df2.head(10)"
   ]
  },
  {
   "cell_type": "markdown",
   "id": "3993eba0",
   "metadata": {},
   "source": [
    "### Sentiment Analysis\n",
    "Analyse the emotions in each review. Very negative reviews could potentially be rants."
   ]
  },
  {
   "cell_type": "code",
   "execution_count": null,
   "id": "9764f7ee",
   "metadata": {},
   "outputs": [],
   "source": [
    "from transformers import pipeline\n",
    "\n",
    "\n",
    "#Load the pre-trained sentiment analysis pipeline\n",
    "sentiment_analyzer = pipeline(\"sentiment-analysis\")\n",
    "labels = []\n",
    "scores = []\n",
    "\n",
    "for text in df2[\"review_text\"]:\n",
    "    result = sentiment_analyzer(text)[0]  # returns list of dicts\n",
    "    label = result['label']\n",
    "    score = result['score']\n",
    "    labels.append(label)\n",
    "    scores.append(score)\n",
    "\n",
    "df2[\"sentiment\"] = labels\n",
    "df2[\"confidence score\"] = scores\n",
    "df2.head(10)"
   ]
  },
  {
   "cell_type": "markdown",
   "id": "6d805947",
   "metadata": {},
   "source": [
    "### All Caps Ratio\n",
    "Some reviews may contain lots of capitalisation, indicate frustration. These could be rants."
   ]
  },
  {
   "cell_type": "code",
   "execution_count": null,
   "id": "2ea47164",
   "metadata": {},
   "outputs": [],
   "source": [
    "def all_caps_ratio(text):\n",
    "    caps = 0\n",
    "    for c in text:\n",
    "        if c.isalpha() and c.isupper():\n",
    "            caps += 1\n",
    "    if len(text) == 0:\n",
    "        return 0\n",
    "    return (caps / len(text))\n",
    "\n",
    "ratios = []\n",
    "\n",
    "for text in df2[\"review_text\"]:\n",
    "    ratios.append(all_caps_ratio(text))\n",
    "\n",
    "df2[\"all caps ratio\"] = ratios\n",
    "\n",
    "df2.head(10)"
   ]
  },
  {
   "cell_type": "markdown",
   "id": "dd0049bb",
   "metadata": {},
   "source": [
    "### Extract keywords\n",
    "Find keywords that are usually found in advertisements to mark the reviews as advertisements."
   ]
  },
  {
   "cell_type": "code",
   "execution_count": null,
   "id": "a7d1626e",
   "metadata": {},
   "outputs": [],
   "source": [
    "import re\n",
    "\n",
    "ad_keywords = [\n",
    "    \"promo\", \"discount\", \"offer\", \"buy now\", \"free\", \"click here\", \"visit\",\n",
    "    \"limited time\", \"sale\", \"deal\", \"coupon\", \"special offer\", \"subscribe\",\n",
    "    \"register now\", \"sign up\", \"exclusive\", \"order now\", \"save big\",\n",
    "    \"hot deal\", \"shop now\", \"get it now\", \"today only\", \"claim your\", \"bonus\"\n",
    "]\n",
    "\n",
    "def contains_ad_keywords(text):\n",
    "    text_lower = text.lower()\n",
    "    # ads will be marked with 1, the rest as 0\n",
    "    return int(any(re.search(r'\\b'+kw+r'\\b', text_lower) for kw in ad_keywords))\n",
    "\n",
    "\n",
    "ads = []\n",
    "for text in df2[\"review_text\"]:\n",
    "    ad = contains_ad_keywords(text)\n",
    "    ads.append(ad)\n",
    "\n",
    "df2[\"ad\"] = ads\n",
    "\n",
    "ad_rows = df2[df2[\"ad\"] == 1]\n"
   ]
  },
  {
   "cell_type": "code",
   "execution_count": null,
   "id": "395b1ebe",
   "metadata": {},
   "outputs": [],
   "source": [
    "ad_rows"
   ]
  },
  {
   "cell_type": "code",
   "execution_count": null,
   "id": "6a0887c6",
   "metadata": {},
   "outputs": [],
   "source": [
    "with_features_path = \"../data/with_features/with_features.csv\"\n",
    "df.to_csv(with_features_path, index=False)"
   ]
  }
 ],
 "metadata": {
  "kernelspec": {
   "display_name": ".venv (3.13.3)",
   "language": "python",
   "name": "python3"
  },
  "language_info": {
   "codemirror_mode": {
    "name": "ipython",
    "version": 3
   },
   "file_extension": ".py",
   "mimetype": "text/x-python",
   "name": "python",
   "nbconvert_exporter": "python",
   "pygments_lexer": "ipython3",
   "version": "3.13.3"
  }
 },
 "nbformat": 4,
 "nbformat_minor": 5
}
