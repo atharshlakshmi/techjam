{
 "cells": [
  {
   "cell_type": "markdown",
   "id": "3f2f6c5f",
   "metadata": {},
   "source": [
    "### Import Required Packagaes"
   ]
  },
  {
   "cell_type": "code",
   "execution_count": 8,
   "id": "fcda58db",
   "metadata": {},
   "outputs": [],
   "source": [
    "import spacy\n",
    "import pandas as pd\n",
    "import re\n",
    "from transformers import pipeline"
   ]
  },
  {
   "cell_type": "markdown",
   "id": "505c5883",
   "metadata": {},
   "source": [
    "### Clean Review Texts"
   ]
  },
  {
   "cell_type": "code",
   "execution_count": 9,
   "id": "8c41f053",
   "metadata": {},
   "outputs": [],
   "source": [
    "def clean_text(text):\n",
    "    text = text.lower()  # Convert to lowercase\n",
    "    text = re.sub(r'\\d+', '', text)  # Remove digits\n",
    "    text = re.sub(r'[^\\w\\s]', '', text)  # Remove punctuation\n",
    "    return text"
   ]
  },
  {
   "cell_type": "markdown",
   "id": "5531f1e2",
   "metadata": {},
   "source": [
    "### Tokenization\n",
    "This is for training the ML model."
   ]
  },
  {
   "cell_type": "code",
   "execution_count": 10,
   "id": "a1388ab4",
   "metadata": {},
   "outputs": [],
   "source": [
    "nlp = spacy.load(\"en_core_web_sm\")\n",
    "\n",
    "def tokenize(text):\n",
    "    doc = nlp(text)\n",
    "    return [token.text for token in doc if not token.is_stop and not token.is_punct]"
   ]
  },
  {
   "cell_type": "markdown",
   "id": "910532ca",
   "metadata": {},
   "source": [
    "### All Caps Ratio\n",
    "Some reviews may contain lots of capitalisation, indicating frustration. These could be rants or spam."
   ]
  },
  {
   "cell_type": "code",
   "execution_count": 11,
   "id": "6c0012af",
   "metadata": {},
   "outputs": [],
   "source": [
    "def all_caps_ratio(text):\n",
    "    words = text.split()\n",
    "    caps_words = [word for word in words if word.isupper()]\n",
    "    return len(caps_words) / len(words) if len(words) > 0 else 0"
   ]
  },
  {
   "cell_type": "markdown",
   "id": "5ba116bc",
   "metadata": {},
   "source": [
    "### Sentiment Analysis - Relevancy Score\n",
    "Analyse the emotions in each review. Very negative reviews could potentially be rants."
   ]
  },
  {
   "cell_type": "code",
   "execution_count": 12,
   "id": "aba305ba",
   "metadata": {},
   "outputs": [
    {
     "name": "stderr",
     "output_type": "stream",
     "text": [
      "No model was supplied, defaulted to distilbert/distilbert-base-uncased-finetuned-sst-2-english and revision 714eb0f (https://huggingface.co/distilbert/distilbert-base-uncased-finetuned-sst-2-english).\n",
      "Using a pipeline without specifying a model name and revision in production is not recommended.\n",
      "Device set to use mps:0\n"
     ]
    }
   ],
   "source": [
    "sentiment_analyzer = pipeline(\"sentiment-analysis\")\n",
    "\n",
    "def calculate_relevancy_score(text):\n",
    "    # Can adjust this score based on sentiment, length, and keyword presence\n",
    "    # For example, the higher the sentiment score and review length, the more relevant it is\n",
    "    sentiment_score = sentiment_analyzer(text)[0]['score']\n",
    "    review_length = len(text.split())\n",
    "    caps_ratio = all_caps_ratio(text)\n",
    "    \n",
    "    # Simple heuristic: higher sentiment, longer review, lower caps_ratio = more trustworthy\n",
    "    relevancy_score = (sentiment_score * 40) + (review_length * 0.5) - (caps_ratio * 20)\n",
    "    return min(max(int(relevancy_score), 0), 100)  # Ensure the score is between 0 and 100"
   ]
  },
  {
   "cell_type": "markdown",
   "id": "60e4cceb",
   "metadata": {},
   "source": [
    "### Feature Engineering"
   ]
  },
  {
   "cell_type": "code",
   "execution_count": 13,
   "id": "26bf2840",
   "metadata": {},
   "outputs": [],
   "source": [
    "def engineer_features(df):\n",
    "    df['cleaned_review_text'] = df['review_text'].apply(clean_text)\n",
    "    df['tokenized_review'] = df['cleaned_review_text'].apply(tokenize)\n",
    "    df['review_length'] = df['tokenized_review'].apply(len)\n",
    "    df['all_caps_ratio'] = df['review_text'].apply(all_caps_ratio)\n",
    "    df['sentiment'] = df['cleaned_review_text'].apply(lambda x: sentiment_analyzer(x)[0]['label'])\n",
    "    df['relevancy_score'] = df['review_text'].apply(calculate_relevancy_score)\n",
    "    return df"
   ]
  },
  {
   "cell_type": "markdown",
   "id": "1ea83fe5",
   "metadata": {},
   "source": [
    "### Extract Features from Qwen and Hand-labelled Data"
   ]
  },
  {
   "cell_type": "code",
   "execution_count": 14,
   "id": "fb2b28eb",
   "metadata": {},
   "outputs": [],
   "source": [
    "qwen_data_path = '../data/label/qwen_labelled_combined_reviews.csv'\n",
    "qwen_df = pd.read_csv(qwen_data_path).copy()\n",
    "qwen_feature_df = engineer_features(qwen_df)\n",
    "\n",
    "hand_data_path = '../data/label/hand_labelled_combined_reviews.csv'\n",
    "hand_df = pd.read_csv(hand_data_path).copy()\n",
    "hand_feature_df = engineer_features(hand_df)\n",
    "\n",
    "\n",
    "# Save the results to CSV files\n",
    "qwen2_data_path = '../data/with_features/qwen_labelled_combined_reviews_with_features.csv'\n",
    "qwen_feature_df.to_csv(qwen2_data_path, index=False)\n",
    "\n",
    "hand2_data_path = '../data/with_features/hand_labelled_combined_reviews_with_features.csv'\n",
    "hand_feature_df.to_csv(hand2_data_path, index=False)"
   ]
  }
 ],
 "metadata": {
  "kernelspec": {
   "display_name": ".venv (3.13.3)",
   "language": "python",
   "name": "python3"
  },
  "language_info": {
   "codemirror_mode": {
    "name": "ipython",
    "version": 3
   },
   "file_extension": ".py",
   "mimetype": "text/x-python",
   "name": "python",
   "nbconvert_exporter": "python",
   "pygments_lexer": "ipython3",
   "version": "3.13.3"
  }
 },
 "nbformat": 4,
 "nbformat_minor": 5
}
