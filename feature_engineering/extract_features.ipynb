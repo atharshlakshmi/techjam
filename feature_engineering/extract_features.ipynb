{
 "cells": [
  {
   "cell_type": "markdown",
   "id": "3f2f6c5f",
   "metadata": {},
   "source": [
    "### Import Required Packagaes"
   ]
  },
  {
   "cell_type": "code",
   "execution_count": 10,
   "id": "fcda58db",
   "metadata": {},
   "outputs": [],
   "source": [
    "import spacy\n",
    "import pandas as pd\n",
    "import re\n",
    "from transformers import pipeline"
   ]
  },
  {
   "cell_type": "markdown",
   "id": "505c5883",
   "metadata": {},
   "source": [
    "### Clean Review Texts"
   ]
  },
  {
   "cell_type": "code",
   "execution_count": 11,
   "id": "8c41f053",
   "metadata": {},
   "outputs": [],
   "source": [
    "def clean_text(text):\n",
    "    text = text.lower()  # Convert to lowercase\n",
    "    text = re.sub(r'\\d+', '', text)  # Remove digits\n",
    "    text = re.sub(r'[^\\w\\s]', '', text)  # Remove punctuation\n",
    "    return text"
   ]
  },
  {
   "cell_type": "markdown",
   "id": "7f3ae227",
   "metadata": {},
   "source": [
    "### Keywords"
   ]
  },
  {
   "cell_type": "code",
   "execution_count": 12,
   "id": "f93b3fa4",
   "metadata": {},
   "outputs": [],
   "source": [
    "ad_keywords = [\n",
    "    \"promo\", \"discount\", \"offer\", \"buy now\", \"free\", \"click here\", \"visit\",\n",
    "    \"limited time\", \"sale\", \"deal\", \"coupon\", \"special offer\", \"subscribe\",\n",
    "    \"register now\", \"sign up\", \"exclusive\", \"order now\", \"save big\",\n",
    "    \"hot deal\", \"shop now\", \"get it now\", \"today only\", \"claim your\", \"bonus\"\n",
    "]\n",
    "\n",
    "rant_keywords = [\n",
    "    \"worst\", \"terrible\", \"horrible\", \"disappointed\", \"never again\", \"awful\", \n",
    "    \"hate\", \"angry\", \"scam\", \"frustrated\", \"rage\", \"don't bother\", \"unacceptable\"\n",
    "]\n",
    "\n",
    "spam_keywords = [\n",
    "    \"check out\", \"visit us\", \"see more\", \"learn more\", \"follow us\", \"join now\", \n",
    "    \"click here\", \"buy now\", \"limited time offer\", \"hurry up\", \"call us\", \n",
    "    \"guaranteed\", \"satisfaction\", \"money back\", \"don't miss\", \"one-time offer\"\n",
    "]\n",
    "\n",
    "irrelevant_keywords = [\n",
    "    \"weather\", \"politics\", \"sports\", \"personal opinion\", \"life advice\", \n",
    "    \"not related\", \"unrelated\", \"not about the place\", \"miscellaneous\"\n",
    "]\n",
    "\n",
    "\n",
    "emotional_keywords = [\n",
    "    \"love\", \"hate\", \"best\", \"worst\", \"amazing\", \"terrible\", \"perfect\", \n",
    "    \"disgusted\", \"impressed\", \"thrilled\", \"excited\", \"devastated\", \"infuriating\"\n",
    "]"
   ]
  },
  {
   "cell_type": "markdown",
   "id": "d69b0405",
   "metadata": {},
   "source": [
    "### Check Keywords"
   ]
  },
  {
   "cell_type": "code",
   "execution_count": 13,
   "id": "e298f142",
   "metadata": {},
   "outputs": [],
   "source": [
    "def contains_keywords(text, keywords):\n",
    "    return any(keyword in text for keyword in keywords)"
   ]
  },
  {
   "cell_type": "markdown",
   "id": "df1bd3b9",
   "metadata": {},
   "source": [
    "### Flag Reviews based on Keywords"
   ]
  },
  {
   "cell_type": "code",
   "execution_count": 14,
   "id": "4a543a8f",
   "metadata": {},
   "outputs": [],
   "source": [
    "def flag_policy_violations(text):\n",
    "    if contains_keywords(text, ad_keywords):\n",
    "        return 'Ad'\n",
    "    elif contains_keywords(text, rant_keywords):\n",
    "        return 'Rant'\n",
    "    elif contains_keywords(text, spam_keywords):\n",
    "        return 'Spam'\n",
    "    elif contains_keywords(text, irrelevant_keywords):\n",
    "        return 'Irrelevant'\n",
    "    elif contains_keywords(text, emotional_keywords):\n",
    "        return 'Emotional'\n",
    "    else:\n",
    "        return 'Valid'"
   ]
  },
  {
   "cell_type": "markdown",
   "id": "5531f1e2",
   "metadata": {},
   "source": [
    "### Tokenization\n",
    "This is for training the ML model."
   ]
  },
  {
   "cell_type": "code",
   "execution_count": 15,
   "id": "a1388ab4",
   "metadata": {},
   "outputs": [],
   "source": [
    "nlp = spacy.load(\"en_core_web_sm\")\n",
    "\n",
    "def tokenize(text):\n",
    "    doc = nlp(text)\n",
    "    return [token.text for token in doc if not token.is_stop and not token.is_punct]"
   ]
  },
  {
   "cell_type": "markdown",
   "id": "910532ca",
   "metadata": {},
   "source": [
    "### All Caps Ratio\n",
    "Some reviews may contain lots of capitalisation, indicating frustration. These could be rants or spam."
   ]
  },
  {
   "cell_type": "code",
   "execution_count": 16,
   "id": "6c0012af",
   "metadata": {},
   "outputs": [],
   "source": [
    "def all_caps_ratio(text):\n",
    "    words = text.split()\n",
    "    caps_words = [word for word in words if word.isupper()]\n",
    "    return len(caps_words) / len(words) if len(words) > 0 else 0"
   ]
  },
  {
   "cell_type": "markdown",
   "id": "5ba116bc",
   "metadata": {},
   "source": [
    "### Sentiment Analysis - Relevancy Score\n",
    "Analyse the emotions in each review. Very negative reviews could potentially be rants."
   ]
  },
  {
   "cell_type": "code",
   "execution_count": 17,
   "id": "aba305ba",
   "metadata": {},
   "outputs": [
    {
     "name": "stderr",
     "output_type": "stream",
     "text": [
      "No model was supplied, defaulted to distilbert/distilbert-base-uncased-finetuned-sst-2-english and revision 714eb0f (https://huggingface.co/distilbert/distilbert-base-uncased-finetuned-sst-2-english).\n",
      "Using a pipeline without specifying a model name and revision in production is not recommended.\n",
      "Device set to use mps:0\n"
     ]
    }
   ],
   "source": [
    "sentiment_analyzer = pipeline(\"sentiment-analysis\")\n",
    "\n",
    "def calculate_relevancy_score(text):\n",
    "    # Can adjust this score based on sentiment, length, and keyword presence\n",
    "    # For example, the higher the sentiment score and review length, the more relevant it is\n",
    "    sentiment_score = sentiment_analyzer(text)[0]['score']\n",
    "    review_length = len(text.split())\n",
    "    caps_ratio = all_caps_ratio(text)\n",
    "    \n",
    "    # Simple heuristic: higher sentiment, longer review, lower caps_ratio = more trustworthy\n",
    "    relevancy_score = (sentiment_score * 40) + (review_length * 0.5) - (caps_ratio * 20)\n",
    "    return min(max(int(relevancy_score), 0), 100)  # Ensure the score is between 0 and 100"
   ]
  },
  {
   "cell_type": "markdown",
   "id": "60e4cceb",
   "metadata": {},
   "source": [
    "### Feature Engineering"
   ]
  },
  {
   "cell_type": "code",
   "execution_count": 19,
   "id": "fb2b28eb",
   "metadata": {},
   "outputs": [
    {
     "data": {
      "text/html": [
       "<div>\n",
       "<style scoped>\n",
       "    .dataframe tbody tr th:only-of-type {\n",
       "        vertical-align: middle;\n",
       "    }\n",
       "\n",
       "    .dataframe tbody tr th {\n",
       "        vertical-align: top;\n",
       "    }\n",
       "\n",
       "    .dataframe thead th {\n",
       "        text-align: right;\n",
       "    }\n",
       "</style>\n",
       "<table border=\"1\" class=\"dataframe\">\n",
       "  <thead>\n",
       "    <tr style=\"text-align: right;\">\n",
       "      <th></th>\n",
       "      <th>user_name</th>\n",
       "      <th>review_text</th>\n",
       "      <th>rating</th>\n",
       "      <th>cleaned_review_text</th>\n",
       "      <th>tokens</th>\n",
       "      <th>review_length</th>\n",
       "      <th>sentiment</th>\n",
       "      <th>all_caps_ratio</th>\n",
       "      <th>relevancy_score</th>\n",
       "      <th>policy_label</th>\n",
       "    </tr>\n",
       "  </thead>\n",
       "  <tbody>\n",
       "    <tr>\n",
       "      <th>0</th>\n",
       "      <td>Amber Thibeault</td>\n",
       "      <td>Andrea is amazing. Our dog loves her and she a...</td>\n",
       "      <td>5</td>\n",
       "      <td>andrea is amazing our dog loves her and she al...</td>\n",
       "      <td>[andrea, amazing, dog, loves, looks, amazing, ...</td>\n",
       "      <td>95</td>\n",
       "      <td>POSITIVE</td>\n",
       "      <td>0.0</td>\n",
       "      <td>48</td>\n",
       "      <td>Emotional</td>\n",
       "    </tr>\n",
       "    <tr>\n",
       "      <th>1</th>\n",
       "      <td>Esther</td>\n",
       "      <td>Andrea does a wonderful  job  with our wild Pr...</td>\n",
       "      <td>5</td>\n",
       "      <td>andrea does a wonderful  job  with our wild pr...</td>\n",
       "      <td>[andrea, wonderful,  , job,  , wild, princess,...</td>\n",
       "      <td>90</td>\n",
       "      <td>POSITIVE</td>\n",
       "      <td>0.0</td>\n",
       "      <td>47</td>\n",
       "      <td>Emotional</td>\n",
       "    </tr>\n",
       "    <tr>\n",
       "      <th>2</th>\n",
       "      <td>Bob Barrett</td>\n",
       "      <td>Never called back</td>\n",
       "      <td>1</td>\n",
       "      <td>never called back</td>\n",
       "      <td>[called]</td>\n",
       "      <td>17</td>\n",
       "      <td>POSITIVE</td>\n",
       "      <td>0.0</td>\n",
       "      <td>41</td>\n",
       "      <td>Valid</td>\n",
       "    </tr>\n",
       "    <tr>\n",
       "      <th>3</th>\n",
       "      <td>Luz Quiles</td>\n",
       "      <td>They don't answer the phones</td>\n",
       "      <td>3</td>\n",
       "      <td>they dont answer the phones</td>\n",
       "      <td>[nt, answer, phones]</td>\n",
       "      <td>28</td>\n",
       "      <td>NEGATIVE</td>\n",
       "      <td>0.0</td>\n",
       "      <td>42</td>\n",
       "      <td>Valid</td>\n",
       "    </tr>\n",
       "    <tr>\n",
       "      <th>4</th>\n",
       "      <td>Tim Sanderson</td>\n",
       "      <td>Limited information on the website</td>\n",
       "      <td>3</td>\n",
       "      <td>limited information on the website</td>\n",
       "      <td>[limited, information, website]</td>\n",
       "      <td>34</td>\n",
       "      <td>NEGATIVE</td>\n",
       "      <td>0.0</td>\n",
       "      <td>42</td>\n",
       "      <td>Valid</td>\n",
       "    </tr>\n",
       "    <tr>\n",
       "      <th>5</th>\n",
       "      <td>Ellen Nastir</td>\n",
       "      <td>Leigh-Ann is an incredibly creative facilitato...</td>\n",
       "      <td>5</td>\n",
       "      <td>leighann is an incredibly creative facilitator...</td>\n",
       "      <td>[leighann, incredibly, creative, facilitator, ...</td>\n",
       "      <td>251</td>\n",
       "      <td>POSITIVE</td>\n",
       "      <td>0.0</td>\n",
       "      <td>61</td>\n",
       "      <td>Ad</td>\n",
       "    </tr>\n",
       "    <tr>\n",
       "      <th>6</th>\n",
       "      <td>Jinnie Lee Schmid</td>\n",
       "      <td>Leigh Ann Rodgers is THE undisputed expert in ...</td>\n",
       "      <td>5</td>\n",
       "      <td>leigh ann rodgers is the undisputed expert in ...</td>\n",
       "      <td>[leigh, ann, rodgers, undisputed, expert, team...</td>\n",
       "      <td>649</td>\n",
       "      <td>POSITIVE</td>\n",
       "      <td>0.0</td>\n",
       "      <td>89</td>\n",
       "      <td>Emotional</td>\n",
       "    </tr>\n",
       "    <tr>\n",
       "      <th>7</th>\n",
       "      <td>Wanda Walker</td>\n",
       "      <td>Leigh Ann Rodgers is a great collaborator and ...</td>\n",
       "      <td>5</td>\n",
       "      <td>leigh ann rodgers is a great collaborator and ...</td>\n",
       "      <td>[leigh, ann, rodgers, great, collaborator, ste...</td>\n",
       "      <td>251</td>\n",
       "      <td>POSITIVE</td>\n",
       "      <td>0.0</td>\n",
       "      <td>59</td>\n",
       "      <td>Emotional</td>\n",
       "    </tr>\n",
       "    <tr>\n",
       "      <th>8</th>\n",
       "      <td>Heather Clarke</td>\n",
       "      <td>I really appreciate all the wisdom and experie...</td>\n",
       "      <td>5</td>\n",
       "      <td>i really appreciate all the wisdom and experie...</td>\n",
       "      <td>[appreciate, wisdom, experience, leigh, ann, r...</td>\n",
       "      <td>188</td>\n",
       "      <td>POSITIVE</td>\n",
       "      <td>0.0</td>\n",
       "      <td>54</td>\n",
       "      <td>Valid</td>\n",
       "    </tr>\n",
       "    <tr>\n",
       "      <th>9</th>\n",
       "      <td>Cheryle Maurer</td>\n",
       "      <td>Leigh Ann’s masterful facilitation and engagem...</td>\n",
       "      <td>5</td>\n",
       "      <td>leigh anns masterful facilitation and engageme...</td>\n",
       "      <td>[leigh, anns, masterful, facilitation, engagem...</td>\n",
       "      <td>171</td>\n",
       "      <td>POSITIVE</td>\n",
       "      <td>0.0</td>\n",
       "      <td>52</td>\n",
       "      <td>Valid</td>\n",
       "    </tr>\n",
       "  </tbody>\n",
       "</table>\n",
       "</div>"
      ],
      "text/plain": [
       "           user_name                                        review_text  \\\n",
       "0    Amber Thibeault  Andrea is amazing. Our dog loves her and she a...   \n",
       "1             Esther  Andrea does a wonderful  job  with our wild Pr...   \n",
       "2        Bob Barrett                                  Never called back   \n",
       "3         Luz Quiles                       They don't answer the phones   \n",
       "4      Tim Sanderson                 Limited information on the website   \n",
       "5       Ellen Nastir  Leigh-Ann is an incredibly creative facilitato...   \n",
       "6  Jinnie Lee Schmid  Leigh Ann Rodgers is THE undisputed expert in ...   \n",
       "7       Wanda Walker  Leigh Ann Rodgers is a great collaborator and ...   \n",
       "8     Heather Clarke  I really appreciate all the wisdom and experie...   \n",
       "9     Cheryle Maurer  Leigh Ann’s masterful facilitation and engagem...   \n",
       "\n",
       "   rating                                cleaned_review_text  \\\n",
       "0       5  andrea is amazing our dog loves her and she al...   \n",
       "1       5  andrea does a wonderful  job  with our wild pr...   \n",
       "2       1                                  never called back   \n",
       "3       3                        they dont answer the phones   \n",
       "4       3                 limited information on the website   \n",
       "5       5  leighann is an incredibly creative facilitator...   \n",
       "6       5  leigh ann rodgers is the undisputed expert in ...   \n",
       "7       5  leigh ann rodgers is a great collaborator and ...   \n",
       "8       5  i really appreciate all the wisdom and experie...   \n",
       "9       5  leigh anns masterful facilitation and engageme...   \n",
       "\n",
       "                                              tokens  review_length sentiment  \\\n",
       "0  [andrea, amazing, dog, loves, looks, amazing, ...             95  POSITIVE   \n",
       "1  [andrea, wonderful,  , job,  , wild, princess,...             90  POSITIVE   \n",
       "2                                           [called]             17  POSITIVE   \n",
       "3                               [nt, answer, phones]             28  NEGATIVE   \n",
       "4                    [limited, information, website]             34  NEGATIVE   \n",
       "5  [leighann, incredibly, creative, facilitator, ...            251  POSITIVE   \n",
       "6  [leigh, ann, rodgers, undisputed, expert, team...            649  POSITIVE   \n",
       "7  [leigh, ann, rodgers, great, collaborator, ste...            251  POSITIVE   \n",
       "8  [appreciate, wisdom, experience, leigh, ann, r...            188  POSITIVE   \n",
       "9  [leigh, anns, masterful, facilitation, engagem...            171  POSITIVE   \n",
       "\n",
       "   all_caps_ratio  relevancy_score policy_label  \n",
       "0             0.0               48    Emotional  \n",
       "1             0.0               47    Emotional  \n",
       "2             0.0               41        Valid  \n",
       "3             0.0               42        Valid  \n",
       "4             0.0               42        Valid  \n",
       "5             0.0               61           Ad  \n",
       "6             0.0               89    Emotional  \n",
       "7             0.0               59    Emotional  \n",
       "8             0.0               54        Valid  \n",
       "9             0.0               52        Valid  "
      ]
     },
     "execution_count": 19,
     "metadata": {},
     "output_type": "execute_result"
    }
   ],
   "source": [
    "data_path = '../data/clean/cleaned_combined_reviews.csv'\n",
    "df = pd.read_csv(data_path).head(1000)\n",
    "\n",
    "df['cleaned_review_text'] = df['review_text'].apply(clean_text)\n",
    "df['tokens'] = df['cleaned_review_text'].apply(tokenize)\n",
    "df['review_length'] = df['review_text'].apply(len)\n",
    "df['sentiment'] = df['review_text'].apply(lambda x: sentiment_analyzer(x)[0]['label'])\n",
    "df['all_caps_ratio'] = df['cleaned_review_text'].apply(all_caps_ratio)\n",
    "df['relevancy_score'] = df['cleaned_review_text'].apply(calculate_relevancy_score)\n",
    "df['policy_label'] = df['cleaned_review_text'].apply(flag_policy_violations)\n",
    "\n",
    "# Save the results to a CSV file\n",
    "data_path = '../data/with_features/cleaned_combined_reviews_with_features.csv'\n",
    "df.to_csv(data_path, index=False)\n",
    "\n",
    "df.head(10)"
   ]
  }
 ],
 "metadata": {
  "kernelspec": {
   "display_name": ".venv (3.13.3)",
   "language": "python",
   "name": "python3"
  },
  "language_info": {
   "codemirror_mode": {
    "name": "ipython",
    "version": 3
   },
   "file_extension": ".py",
   "mimetype": "text/x-python",
   "name": "python",
   "nbconvert_exporter": "python",
   "pygments_lexer": "ipython3",
   "version": "3.13.3"
  }
 },
 "nbformat": 4,
 "nbformat_minor": 5
}
