{
 "cells": [
  {
   "cell_type": "markdown",
   "id": "5882106b",
   "metadata": {},
   "source": [
    "### Import Required Packages"
   ]
  },
  {
   "cell_type": "code",
   "execution_count": 54,
   "id": "d53fb2f5",
   "metadata": {},
   "outputs": [],
   "source": [
    "import pandas as pd\n",
    "from matplotlib import pyplot as plt\n",
    "from sklearn.preprocessing import StandardScaler\n",
    "from sklearn.model_selection import learning_curve\n",
    "from sklearn.feature_extraction.text import TfidfVectorizer\n",
    "from sklearn.linear_model import LogisticRegression\n",
    "from sklearn.metrics import classification_report, confusion_matrix, ConfusionMatrixDisplay\n",
    "from scipy.sparse import hstack, csr_matrix"
   ]
  },
  {
   "cell_type": "markdown",
   "id": "46c9bd64",
   "metadata": {},
   "source": [
    "### Logistic Regression"
   ]
  },
  {
   "cell_type": "code",
   "execution_count": 45,
   "id": "aeed9a96",
   "metadata": {},
   "outputs": [
    {
     "data": {
      "text/plain": [
       "(                                           review_text  ...  relevancy_score\n",
       " 0    Andrea is amazing. Our dog loves her and she a...  ...               48\n",
       " 1    Andrea does a wonderful  job  with our wild Pr...  ...               47\n",
       " 2                                    Never called back  ...               41\n",
       " 3                         They don't answer the phones  ...               42\n",
       " 4                   Limited information on the website  ...               42\n",
       " ..                                                 ...  ...              ...\n",
       " 995                      Brett Williams is awesome!!!!  ...               41\n",
       " 996  they have they the kinds of cars a teen will n...  ...               48\n",
       " 997  I would not go back there for nothing, the gen...  ...               61\n",
       " 998                                     Awesome prices  ...               40\n",
       " 999                           Not the best but alright  ...               42\n",
       " \n",
       " [1000 rows x 6 columns],\n",
       "                                            review_text  ...  relevancy_score\n",
       " 0    I ordered a number of baby and maternity items...  ...               59\n",
       " 1                                     Prices too high!  ...               41\n",
       " 2    Perfect activity for a perfect day.  The crowd...  ...               47\n",
       " 3    Clean & modern house ,\\nfresh flowers everywhe...  ...               46\n",
       " 4    Excellent option and easier access to Tijuana'...  ...               43\n",
       " ..                                                 ...  ...              ...\n",
       " 195  (Translated by Google) Very happy with my firs...  ...              100\n",
       " 196  Fantastic food and staff. It was very busy whe...  ...               53\n",
       " 197                       Awesome food from far places  ...               42\n",
       " 198  Well, honestly, I should give 3 instead of 4, ...  ...               80\n",
       " 199                   History, man. Plus architecture.  ...               41\n",
       " \n",
       " [200 rows x 6 columns],\n",
       " 0      Irrelevant\n",
       " 1      Irrelevant\n",
       " 2            Rant\n",
       " 3            Rant\n",
       " 4      Irrelevant\n",
       "           ...    \n",
       " 995    Irrelevant\n",
       " 996    Irrelevant\n",
       " 997          Rant\n",
       " 998    Irrelevant\n",
       " 999    Irrelevant\n",
       " Name: label, Length: 1000, dtype: object,\n",
       " 0      Valid\n",
       " 1       Rant\n",
       " 2      Valid\n",
       " 3      Valid\n",
       " 4      Valid\n",
       "        ...  \n",
       " 195    Valid\n",
       " 196    Valid\n",
       " 197    Valid\n",
       " 198    Valid\n",
       " 199    Valid\n",
       " Name: label, Length: 200, dtype: object)"
      ]
     },
     "execution_count": 45,
     "metadata": {},
     "output_type": "execute_result"
    }
   ],
   "source": [
    "# Insert Qwen labelled data\n",
    "train_data = pd.read_csv(\"../data/with_features/qwen_labelled_combined_reviews_with_features.csv\")\n",
    "\n",
    "# Insert hand labelled data\n",
    "test_data = pd.read_csv(\"../data/with_features/hand_labelled_combined_reviews_with_features.csv\")\n",
    "\n",
    "X_train= train_data[[\"review_text\", \"rating\", \"review_length\",\"sentiment\", \"all_caps_ratio\",\"relevancy_score\"]]\n",
    "y_train= train_data[\"label\"]\n",
    "\n",
    "X_test=test_data[[\"review_text\", \"rating\", \"review_length\",\"sentiment\", \"all_caps_ratio\",\"relevancy_score\"]]\n",
    "y_test=test_data[\"label\"]\n",
    "\n",
    "X_train, X_test, y_train, y_test"
   ]
  },
  {
   "cell_type": "code",
   "execution_count": 46,
   "id": "01a389c6",
   "metadata": {},
   "outputs": [
    {
     "name": "stdout",
     "output_type": "stream",
     "text": [
      "(1000, 5000)\n",
      "(200, 5000)\n"
     ]
    }
   ],
   "source": [
    "# Turn words into numbers\n",
    "tfidf = TfidfVectorizer(max_features=5000, stop_words=\"english\", ngram_range=(1,2))\n",
    "\n",
    "X_train_tfidf = tfidf.fit_transform(X_train[\"review_text\"])\n",
    "X_test_tfidf = tfidf.transform(X_test[\"review_text\"])\n",
    "\n",
    "print(X_train_tfidf.shape)\n",
    "print(X_test_tfidf.shape)"
   ]
  },
  {
   "cell_type": "code",
   "execution_count": 47,
   "id": "71bc7173",
   "metadata": {},
   "outputs": [
    {
     "name": "stdout",
     "output_type": "stream",
     "text": [
      "(1000, 5005)\n",
      "(200, 5005)\n"
     ]
    }
   ],
   "source": [
    "# Numeric features \n",
    "\n",
    "# Store as numeric arrays\n",
    "numeric_cols = [\"rating\", \"review_length\",\"sentiment\", \"all_caps_ratio\",\"relevancy_score\"]\n",
    "X_train_numeric = X_train[numeric_cols].apply(pd.to_numeric, errors='coerce').fillna(0).values\n",
    "X_test_numeric  = X_test[numeric_cols].apply(pd.to_numeric, errors='coerce').fillna(0).values\n",
    "\n",
    "# Combine TF-IDF + numeric\n",
    "X_train_final = hstack([X_train_tfidf, X_train_numeric])\n",
    "X_test_final = hstack([X_test_tfidf, X_test_numeric])\n",
    "\n",
    "print(X_train_final.shape)\n",
    "print(X_test_final.shape)"
   ]
  },
  {
   "cell_type": "markdown",
   "id": "d76be463",
   "metadata": {},
   "source": [
    "### Train Model"
   ]
  },
  {
   "cell_type": "code",
   "execution_count": 48,
   "id": "9e53ee61",
   "metadata": {},
   "outputs": [],
   "source": [
    "clf = LogisticRegression(max_iter=1000, class_weight=\"balanced\")\n",
    "clf.fit(X_train_final, y_train)\n",
    "\n",
    "y_pred = clf.predict(X_test_final)"
   ]
  },
  {
   "cell_type": "markdown",
   "id": "cb61b1fd",
   "metadata": {},
   "source": [
    "### Results"
   ]
  },
  {
   "cell_type": "code",
   "execution_count": 49,
   "id": "b6636e9e",
   "metadata": {},
   "outputs": [
    {
     "name": "stdout",
     "output_type": "stream",
     "text": [
      "Classification Report:\n",
      "              precision    recall  f1-score   support\n",
      "\n",
      "          Ad       0.20      0.20      0.20        10\n",
      "  Irrelevant       0.10      0.71      0.18         7\n",
      "        Rant       0.79      0.79      0.79        14\n",
      "       Valid       0.94      0.70      0.81       169\n",
      "\n",
      "    accuracy                           0.69       200\n",
      "   macro avg       0.51      0.60      0.49       200\n",
      "weighted avg       0.87      0.69      0.75       200\n",
      "\n"
     ]
    }
   ],
   "source": [
    "print(\"Classification Report:\")\n",
    "print(classification_report(y_test, y_pred))"
   ]
  },
  {
   "cell_type": "markdown",
   "id": "541fb0fd",
   "metadata": {},
   "source": [
    "### Visualisations"
   ]
  },
  {
   "cell_type": "code",
   "execution_count": 50,
   "id": "0420271d",
   "metadata": {},
   "outputs": [
    {
     "data": {
      "image/png": "[encoded data removed]",
      "text/plain": [
       "<Figure size 640x480 with 2 Axes>"
      ]
     },
     "metadata": {},
     "output_type": "display_data"
    }
   ],
   "source": [
    "# Get confusion matrix\n",
    "cm = confusion_matrix(y_test, y_pred)\n",
    "\n",
    "# Display confusion matrix\n",
    "disp = ConfusionMatrixDisplay(confusion_matrix=cm, display_labels=clf.classes_)\n",
    "disp.plot(cmap='Blues')\n",
    "\n",
    "plt.title('Confusion Matrix for Logistic Regression')\n",
    "plt.show()"
   ]
  },
  {
   "cell_type": "markdown",
   "id": "418e6ca0",
   "metadata": {},
   "source": [
    "### Walkthrough"
   ]
  },
  {
   "cell_type": "code",
   "execution_count": 56,
   "id": "10eeea03",
   "metadata": {},
   "outputs": [
    {
     "name": "stdout",
     "output_type": "stream",
     "text": [
      "Review: I’ve had my Sanctuary 2 sauna and red light for about a month and love it! Julie is very knowledgeable and was a great help in picking the right sauna. Thanks Julie!\n",
      "   True: Valid --> Predicted: Valid\n",
      "\n",
      "Review: What can I say! Julie was fantastic and the product ( Sactuary 3) is fantastic as well. I came across Julie by chance on the internet and her 24/7 availability by text just blew me away. She knows she represents  a top notch aesthetic and performance product that becomes part of your daily routine.  Thank you Julie and Clearlight for making this life experience healthier and fun!\n",
      "   True: Valid --> Predicted: Valid\n",
      "\n",
      "Review: Thank you so much Julie for your support in purchasing this Clearlight Sauna -1! It's compact and fits perfectly in my bedroom. The quality is unparalleled! It heats up in about 20 minutes. The color changes for treating different body systems is great.\n",
      "\n",
      "Not only is the sauna top notch, but Julie's service is top notch. I message her early morning or late evening and she always responds quickly to my detox questions. Julie is truly an expert and I trust her knowledge and advice. Being in the service industry myself, I value that kind of support, which is the same type of support that I provide to my clients. Thank you Julie! You are a lifesaver.\n",
      "   True: Valid --> Predicted: Valid\n",
      "\n",
      "Review: Julie has been amazing throughout the entire buying process.  She is a wealth of information and truly cares about helping others heal and get healthy.  She answered all my many questions, and followed up along the process to see how things were going.  We love our Clearlight sauna and couldn't be happier!\n",
      "   True: Valid --> Predicted: Valid\n",
      "\n",
      "Review: Working with Julie was an absolute pleasure! Julie was was honest, informative and very helpful! I was so completely overwhelmed looking at all the different sauna’s and companies until I found Julie.  I am so incredibly pleased with my Clearlight Sanctuary I.   It bring me so much zen!  I would recommend Clearlight and Julie to anyone interested in infrared saunas.  Thanks Julie!\n",
      "   True: Valid --> Predicted: Valid\n",
      "\n",
      "Review: Julie has the best customer service around!  She is knowledgeable and cares.  She sent information regarding use and setup, followed up on its arrival and made sure it was working properly.  I know if I have problems or questions that Julie would make sure it was taken care of.  I wouldn't hesitate to recommend buying a sauna from Julie!!\n",
      "   True: Valid --> Predicted: Valid\n",
      "\n",
      "Review: I just received my Clearlight Sanctuary 3 sauna. Was able to put it together with the help of my husband, directions are simple and clear.  It really is stunning to look at, the ambient lights give off a beautiful glow.  The chromotherapy and blue-tooth speakers are a fun touch too. You can create a mood with lights and sound. It heats up pretty quickly and keeps the temperature at the chosen level. The controls are easy to use and straight forward. You can make adjustments in the temperature/time/full spectrum light range. The bench is comfortable and can be flipped to completely flat or ergonomic style. When considering this purchase, I had A TON of questions for Julie and she was fantastic and prompt with responses if she didn't know right away.  She has also been available to answer my questions after I received the sauna about a myriad of things. I really appreciate her help.\n",
      "   True: Valid --> Predicted: Valid\n",
      "\n",
      "Review: Thank you, Julie Bishop 💕🙏😘 this sauna is AMAZING! I can’t believe it became a reality... from the first call I had with you not knowing how I would be able to make this happen, to making the deposit, still not knowing how I was going to make it happen, to asking a zillion questions (no joke)... and still not knowing how I was going to make it happen, to finalizing payment and awaiting delivery (not believeing that I made it happen), to sitting in my sauna, my sanctuary... and realizing that healing is happening. Thank you, friend, through it all, for being you and being so intentional and wholeheartedly committed to health, wellness, education, inspiration, integrity and advocacy. You are so appreciated and valued. And my life is so much better having met you. I can it wait to continue this journey alongside you. Thank you a million times over.\n",
      "   True: Valid --> Predicted: Valid\n",
      "\n",
      "Review: Julie was excellent every step through the purchase of my clearlight sanctuary 3 sauna.  Quick to answer every question.  Love my sauna - exactly what I was expecting.  Look forward to enjoying for many years.\n",
      "   True: Valid --> Predicted: Valid\n",
      "\n",
      "Review: I purchased a sauna from Julie a few months ago. My experience was fantastic. Julie answered all of questions promptly. She is extremely knowledgeable about detoxing and how the sauna can help in your journey to better health. I use my sauna daily and have been very pleased with it.\n",
      "   True: Valid --> Predicted: Valid\n",
      "\n",
      "Review: We purchased sauna for a dental office. Very happy so far. Have been using red saunas for a while now.\n",
      "   True: Irrelevant --> Predicted: Valid\n",
      "\n",
      "Review: This was the best investment I have ever made! Julie was great during the entire process, and is still a big help with any health and wellness questions I have. My kids use this (safely) a few times a week as well and love it. I cant believe the energy I've had just within the first week. I cant wait to see other results!\n",
      "   True: Valid --> Predicted: Valid\n",
      "\n",
      "Review: I couldn’t be happier with my purchase of a Sanctuary 3 sauna. It is absolute HEAVEN for me!  Worth every single penny spent on this. When searching for saunas, my friend Stacey referred me to Julie. I have to say, Julie made the decision so easy for me when deciding to make the purchase. Her knowledge and passion says it all. Julie has been so helpful during the entire process and when I have questions, she’s always available to answer. Being in the medical field, I highly recommend the purchase of this brand sauna. It has so many great health benefits. Just ask Julie....she’s the BEST!\n",
      "   True: Valid --> Predicted: Valid\n",
      "\n",
      "Review: My experience from the information gathering to delivery was exceptional. Great communication on the shipping and a call to ensure that the delivery was complete and that we are pleased. Excellence in customer service!\n",
      "   True: Valid --> Predicted: Valid\n",
      "\n",
      "Review: We love our Clearlight Sanctuary 3 sauna!  Julie Bishop was extremely helpful and knowledgeable throughout the entire process from choosing which model to purchase through delivery and installation.  We are very happy with the interior size of the Sanctuary 3 and it looks amazing in our home.   We are enjoying it almost every day.  Julie’s customer service was outstanding and she responded immediately to any question we asked. We would recommend Julie and this sauna to anyone!\n",
      "   True: Valid --> Predicted: Valid\n",
      "\n",
      "Review: Julie was by far the best representative I talked to about my decision to purchase a sauna. She guided me through comparing brands and helped me become a more educated consumer. I am very happy with our purchase and working with Julie.\n",
      "   True: Valid --> Predicted: Valid\n",
      "\n",
      "Review: Julie was excellent to work with. She was very responsive to calls and text messages whenever I had questions about the models, the timing of delivery, or how to set up the sauna.\n",
      "During the setup, I slightly stripped the head of one of the bracket screws. It was still able to be tightened, but if I need to disassemble the sauna for any reason, it would be better to replace it. I asked Julie if I could get another screw, and she had A whole new bracket sent to me within a few days.\n",
      "I love the Sauna and would recommend that anyone searching for a high quality sauna call Julie.\n",
      "   True: Valid --> Predicted: Valid\n",
      "\n",
      "Review: Hands down the best active recovery tool of bought for me and my family to enjoy. We put the IS-5 up in our garage and after a hard days work/workout enjoy the quality of a good sauna. Thank you to Julie Bishop for the kindness, patience, and complete professionalism when working with my family for this new purchase. If you want easy, no hassle, and with little wait time hurry up and get your sauna and ACTIVE RECOVERY in check today! Trust me your body will not be upset 😃.\n",
      "   True: Valid --> Predicted: Valid\n",
      "\n",
      "Review: I was so excited to receive my Clearlight Sanctuary 2. Each time I use my sauna I love it even more. I am so grateful to have it in my home to use, at anytime, on my own schedule. Working with Julie Bishop was a pleasure. She was so willing to share her time, expertise and caring ways. Thank you again Julie!\n",
      "   True: Valid --> Predicted: Valid\n",
      "\n",
      "Review: This sauna although expensive was the best I could get for the price after researching it. Julie continues to be there to support me with questions. She is very knowledgeable about healing. I wish I could get one for all my loved ones.\n",
      "   True: Valid --> Predicted: Valid\n",
      "\n",
      "Review: My family and I  have had the pleasure of using my Clearlight sauna for a little while (every day since it was assembled) and wanted to give another big THANK YOU to Julie Bishop thesaunalife.com\n",
      "I’m so unbelievably excited & thankful to have a sauna at home and it is truly everything you, Julie, said it would be and so much more!\n",
      "I so appreciate your product knowledge and your spectacular customer service. (Honestly, I don’t think I’ve ever received such great care) Julie’s customer service is fantastic and my every concern/question was answered (probably multiple times) all while never making me feel pressured or rushed.  I looked into quite a few different companies and the lifetime warranty and low EMF’s of Clearlight stood out, but also it was Julie’s customer service that sealed the deal. She’s there for you every step of the way...\n",
      "your amazing Julie and I’m happy to say so is my\n",
      "sauna! It’s now living in our lower level rex-room...and a little fun-fact, the first one to use our sauna was our oldest son. It truly is going to be something that our entire family can use for years to come and completely worth the investment in our health.\n",
      "   True: Valid --> Predicted: Valid\n",
      "\n",
      "Review: Finding out about all the benefits of an infrared sauna through Julie‘s page I was so impressed with all the research she’s done and sharing her knowledge so kindly there was no other way to get my Clearlight Sauna! We are beyond happy and the whole family enjoys it! Thank you Julie\n",
      "   True: Valid --> Predicted: Valid\n",
      "\n",
      "Review: I absolutely LOVE my new Clearlight suana!   Everything about it is amazing.  Julie worked with my husband who wanted to surprise me with it as a gift.  She was extremely helpful to him and answered all of his questions.  Julie is extremely knowledgeable about the Suanas and was able to help him decide the best one to purchase that would suit our needs.  Please don’t hesitate to reach out to Julie about these amazing suanas.  It will be one of the best things you can do for your health!    A big thank you to Julie.  God  bless you!\n",
      "   True: Valid --> Predicted: Valid\n",
      "\n",
      "Review: I recently purchased a Clearlight Sanctuary 1 from Julie Bishop.  She was extremely professional and knowledgeable about all of the saunas Clearlight has to offer.  I had Many questions in which she had answers for. I appreciated her patience and help regarding my purchase. I will also add, even after receiving my sauna, she is readily available to answer any questions I have.  Thank you Julie Bishop!!\n",
      "   True: Valid --> Predicted: Valid\n",
      "\n",
      "Review: Julie is AMAZING! I have been researching different ways to heal from Lyme for over a year. My mother was clinically diagnosed with Lyme a year ago and it has been a LONG journey. Throughout the past year we have had different people and things placed in our path that has really lead us to the progress that we are seeing (total God thing in our opinion) and Julie and Clearlight are two of the things that fell right into place for us. Someone online recommended Julie to me, I reached out and right away could tell that she was a book of knowledge. I got her on the phone with my parents. Julie spent hours on the phone with them (my mom can ask a ton of questions) and not once did they feel pressured. The sauna was ordered and came in a couple of weeks ago. I actually just got off the phone with my mother prior to writing this review and she is already seeing improvements with her pain. Infrared saunas was also recommended by two LLMD’s that my mom uses so it was an investment in her healing. I want to thank Julie for all of her help. I pray daily for my Mom and I believe Julie was sent to us on this healing journey. Thank you so much for all of your help, knowledge and expertise!\n",
      "   True: Valid --> Predicted: Valid\n",
      "\n",
      "Review: Thank you Julie! We are so excited to have our Sauna up and running!  Thank you for all your help.  I asked you so many questions and you always responded immediately.  I can't tell you how much I appreciated that. 100% A+ customer service my new FRIEND!   I will be sure to send all my friends and family your way.  Thanks again Julie!\n",
      "Tamara\n",
      "   True: Valid --> Predicted: Valid\n",
      "\n",
      "Review: I love my Clearlight Sanctuary 2!  We received it two weeks ago, and set it up last weekend!  It is so quality and luxurious! It’s so much nicer than any public sauna I have ever been in. Julie was so awesome. I felt confident in making the purchase from her because she was so attentive and patient with every kind of question I asked her for months!  And after the purchase, she’s been exactly the same, I’m happy to say. She is such a kind and helpful person, going way beyond discussing the sauna. I’m so thankful to have this amazing sauna.\n",
      "   True: Valid --> Predicted: Valid\n",
      "\n",
      "Review: Julie with the Sauna Life has been the best major sales experience of my life. I had been researching saunas and kept coming across Clearlight as being the best of the best. Julie confirmed this information with accurate facts about the EMF exposure and off gassing of others saunas versus Clearlight. Julie got back to me very quickly with all of my questions and concerns throughout the buying process. She has the most caring and down to earth personality but at the same time is extremely professional! I couldn’t have asked for a better sauna buying experience!!! Thank you Julie!\n",
      "   True: Valid --> Predicted: Valid\n",
      "\n",
      "Review: Julie is awesome. Any questions we had, she answered. Very happy with our 2 seater sauna. My husband was able to assemble it in an hour. Delivery was top notch. Quality of the sauna is great.\n",
      "   True: Valid --> Predicted: Valid\n",
      "\n",
      "Review: We love our sauna and would recommend anyone looking to buy one to talk to Julie Bishop, she is very knowledgeable and actually cares and is there with you every step and then some. She is truly an amazing human being, Love her!\n",
      "   True: Valid --> Predicted: Valid\n",
      "\n",
      "Review: I absolutely love my infrared sauna. After years of battling chronic illness with lyme, mold and coinfections, not being able to work out and sweat this was a must have. I chose clear light because of the Low EMFs and the full spectrum halogen heaters. The mitochondria absorbs the light energizing the cells. I battle with chronic pain and this is just the most amazing treatment for my pain. Each color light does something different, one treats infections while other help detox etc. Julie Bishop was the absolute best with her customer service. I hit a lot of Personal bumps along the way and she was so patient and understanding. I’m forever grateful to have this in my own home. Happy healing to me\n",
      "   True: Valid --> Predicted: Valid\n",
      "\n",
      "Review: Ahhhh! My IS-1 sauna arrived 11 days ago and already I can’t imagine my future without it, my husband and I love what it’s going to do for our health. My husband hardly sits still but he loves how relaxed he feels after a sauna. We read the information and watched the video that Julie sent ahead of time, making it easy to install and use. I have wanted an infrared sauna for a while now, and reading others’ posts and knowing how much research Julie did before purchasing her Clearlight, I felt confident in my purchase. My Naturopath wanted to be sure I bought a safe sauna with low EMFs, well made, and had a great warranty - I didn’t need to keep looking since Clearlight fit the bill and it felt right. I trusted Julie by her actions, knowledge, and responses to my questions, and am so glad because I’m perfectly happy with my purchase. I paid my deposit, waited patiently for it to arrive, and now it’s part of my daily healing from Lyme, co-infections, heavy metals, etc. Love, love, love it! Looking forward to 2021 and better health, with the help of my gorgeous, new sauna. Thanks Julie - completely satisfied!  -Margie\n",
      "   True: Valid --> Predicted: Valid\n",
      "\n",
      "Review: I just completed setup of my new Sanctuary 3 sauna that I purchased from Julie. Throughout the entire process of model selection, purchase and delivery, Julie was unbelievable. To say she knows her stuff would be an understatement. Every question I had was answered literally within minutes. That kind of customer support just doesn't exist anymore. Sauna was setup in less than 2 hours. Biggest challenge was getting all the pieces in my basement. My wife and I have used it twice now and it is absolutely amazing. Thank you Julie for all the help and making this so easy. You are truly one in a million.\n",
      "   True: Valid --> Predicted: Valid\n",
      "\n",
      "Review: I had been looking for a sauna to purchase. And was not clear about which one would be the best. I happen to meet Julie and I was impressed with her knowledge, personality, and her ability to answer every single question that I asked. I Purchased a sauna, it was a very easy transaction. She was on top of it every step of the way. It was easy to put together, and now when I use it I absolutely love it! Julie Is passionate about Clearlight sauna and I appreciate all of her enthusiasm and feeling of absolute confidence that I got doing business with her, especially for such an expensive purchase! Thank you Julie for your help finding me the perfect Sauna ❤️❤️\n",
      "   True: Valid --> Predicted: Valid\n",
      "\n",
      "Review: After researching infrared saunas both on our own and through many sales reps; some of whom provided conflicting information... My wife and I contacted Julie as she was recommended via a Facebook group page. That was our lucky break as Julie simply stood head and shoulders above any other rep we had contacted. We wanted to feel comfortable with and trust our sales rep; as the sauna was a major investment for our family. In addition, we wanted a sales rep who truly took the time to address questions (as my wife and I had many); and just as importantly someone who would provide follow-up care... and not disappear once the sale was final.\n",
      "\n",
      "My wife and I started working with Julie in mid-November — and with her counsel we purchased the Sanctuary 3 in Basswood — a perfect fit for our family.  From start to finish, Julie was extremely responsive to our questions and was always providing us with beneficial information; in addition, she was very patient and kind which enabled my wife and I to enjoy the process of shopping for our sauna (as there are various models/sizes) versus dealing with a “pushy” sales rep. We never once felt pressured to make a purchase. I can’t stress that enough.\n",
      "\n",
      "My wife and I are extremely pleased with our investment... as we use the Sanctuary 3 every morning. Julie continues to message us and continues to address questions. If you want someone who truly takes pride in her business, and wants customers to be 100% happy, then contact Julie.\n",
      "   True: Valid --> Predicted: Valid\n",
      "\n",
      "Review: After 3 years of wanting and needing a sauna we were finally able to purchase the Sanctuary 2. I had done a great deal of research on my own about saunas but, then I found Julie Bishop's page on Facebook and talked with her extensively about various kinds of saunas and features. I decided to go with the Clearlight Sauna because of all the information I got about it from Julie. She has been wonderful to work with over the past few months. She has taken many calls and answered many messages from me and always given more information than I had asked for and often information and help I didn't even know I needed. She has been in contact with me since my purchase to check on how I am doing with using the sauna and to see if I had more questions or needed help.  Her attitude and patience is stellar. If you are looking to invest in your health by purchasing a sauna the only representative I recommend is Julie.\n",
      "Thank you, Julie for all your help.\n",
      "   True: Valid --> Predicted: Valid\n",
      "\n",
      "Review: Julie was a pleasure to work with. She was patient and was very helpful answering questions to assist me in finding the right sauna to fit my needs. She is very knowledgeable and I would highly recommend her to anyone looking for a sauna.\n",
      "   True: Valid --> Predicted: Valid\n",
      "\n",
      "Review: For years, my doctors had advised me to purchase an infared sauna because of the chronic health issues that I have been battling. I began to research the many saunas advertised and tried to figure out which would be the best for me and my issues.  About a year ago, I found Julie Bishop's websites and began to inquire about Clearlight Saunas. Julie is an exceptional woman who is incredibly knowledgeable and has a passion to help people. After comparing all the saunas in my research, I feel that Clearlight Saunas definitely are the best on the market. Before I purchased a sauna from Julie, she and I worked together to select the right model for my budget and health issues. She is so passionate with helping others because she too has gone through serious health issues and can relate to those who are trying to heal. Working with Julie  has been a pleasant experience and she has answered hundreds of my questions that has helped me with my own healing journey. I purchased a Premier 2 basswood sauna and it was delivered about a month ago. I am LOVING it!  I am already seeing positive results. After my sauna sessions, I have been sleeping better and feel more relaxed. I am slowly working on getting my blocked pathways to open up and begin to sweat. Julie's website has a library of information, articles and research that she has posted to help others with their detoxing and wellness journey. We have  discovered that we have so many similarities in our life that I feel like we have  known each other for years! You can't go wrong working with Julie to find the right Clearlight Sauna for you! Thank you Julie!\n",
      "   True: Valid --> Predicted: Valid\n",
      "\n",
      "Review: Last weekend we received our Sanctuary I and it’s nothing short of amazing! The sauna I had previously been using only had a couple of heaters and a much smaller bench. This sauna heats so evenly, quickly, maintains it temperature, and is B E A U T I F U L to top it all off! 😍 I was so nervous about a strong smell while it was brand new because of being so sensitive to smells, but I haven’t had any issue!\n",
      "Absolutely loving the chromotherapy and the sound is impressive!\n",
      "We were originally going to go with another company but after talking with Julie and learning more about how superior Clearlight was, we cancelled our other order and never looked back. This was well worth the wait!\n",
      "Julie has been amazing through the whole process, keeping me totally in the loop on how the process works, shipping, etc. She is a wealth of knowledge and information on healing.\n",
      "I’m blessed to have both of them in my life! (Julie and the sauna!)\n",
      "   True: Valid --> Predicted: Valid\n",
      "\n",
      "Review: I purchased the Premier IS 1 far infrared in basswood! I got it in May and enjoyed it all summer. Now that the cold is settling in, it’s even better. I’m so happy with my purchase, it’s something I use on a regular basis. If you are you are reading this and interested please ask Julie for more information, she has so much knowledge! So thankful she was there to help me!!\n",
      "   True: Valid --> Predicted: Valid\n",
      "\n",
      "Review: Julie was SO helpful in helping me start my detox journey. I didn’t know who to trust about what. She was always honest with me and really does her research! Even amidst the covid stuff she followed up on my order and ensured it was appropriately delivered. We are still waiting on the red light, again because of covid, but knowing she won’t forget about me and my order is so nice. You can’t find customer service like this everywhere anymore. Thank you for all you do, Julie!\n",
      "   True: Valid --> Predicted: Valid\n",
      "\n",
      "Review: Truly grateful for our time together with Julie prior to, during & after our purchase & delivery of our Clearlight Sanctuary 1 Sauna.\n",
      "\n",
      "Our decision to incorporate infrared sauna therapy as part of our family's journey toward better health was fortified by Julie's knowledge, guidance & attention to detail. We cannot recommend her enough!\n",
      "\n",
      "Thank you for all that you do Julie, please keep well & we will do the same, Gena\n",
      "   True: Valid --> Predicted: Valid\n",
      "\n",
      "Review: I love my outdoor Clearlight Sauna!! I have enjoyed over the last year using it almost every day. Julie was wonderful to work with. She was a great source of information and tips about the sauna. Julie advised me about the setup and use. I’m so glad to have found Julie and Clearlight Saunas.\n",
      "   True: Valid --> Predicted: Valid\n",
      "\n",
      "Review: We got our Sanctuary 1 sauna a week ago and have been using it every day! Julie made the process so easy and was so helpful and responsive at every step of the way, from providing the info we needed to make the right choice for us, to purchasing, to helping us schedule delivery, to follow up to make sure all is well. The cedar looks great with our decor. We couldn’t be happier with the sauna and with Julie!\n",
      "   True: Valid --> Predicted: Valid\n",
      "\n",
      "Review: Love my clearlight sanctuary 1 and Julie's dedication to help me get the perfect unit!\n",
      "   True: Valid --> Predicted: Valid\n",
      "\n",
      "Review: Just wanted to give a shout out as another happy customer and new owner of a Clearlight Sauna. I got the Premier IS -1 Cedar. Julie Bishop made it so easy. I didn’t have the money like so many others in the group. I thought I would have to wait until I came into some money before I could order one. Julie told me how some people get a credit card with 0% APR for 12 months to make it happen sooner. I applied and ordered through Julie and now I am able to begin healing today. Don’t wait and don’t skimp and get a cheaper sauna. This sauna is solid and incredibly well made. It goes together easily too. We are tight on space in this old farmhouse but we fit it in!! Remember, you can’t put a $ on your health. Plus, Julie Bishop offers support and advice all along the way! Do it!\n",
      "   True: Valid --> Predicted: Valid\n",
      "\n",
      "Review: Julie is extremely knowledgeable and her customer service is top notch. Highly recommend.\n",
      "   True: Valid --> Predicted: Valid\n",
      "\n",
      "Review: Julie Bishop is beyond a pleasure to work with. She is incredibly knowledgeable on all of the Clearlight Saunas, but she is also so passionate and caring for each individual person and their needs. We are very happy with our sauna purchase and would recommend Clearlight AND working with Julie to anyone and everyone.\n",
      "   True: Valid --> Predicted: Valid\n",
      "\n",
      "Review: Our sauna got delivered to us 6 weeks ago, and we are SO glad we went with Clearlight and also with Julie.  We must have asked her questions on and off for over 6 months prior to being ready to purchase.  The being ready to purchase had more to do with cash flow than anything especially since Julie was SO prompt and thorough in answering our questions.  Prior to finding Julie - we had stopped at a few stores to ask questions about their saunas and we left knowing for certain that we would not purchase from them due to their lack of knowledge.  We've always felt like we've been in amazing hands with Julie.  Her knowledge is beyond what you can imagine.  After buying, there has been no drop off in her customer service either.  She still responds just as promptly and thoroughly!  So now that I've shared how much we appreciate Julie and how awesome she is at taking care of her customers, let me share my biggest health change since using the sauna.  So I suffer with CIRS (for me a combo of Lyme and mold issues) and virtually any time my heart rate came up at all (sometimes even just climbing a flight of stairs), I would get a horrible headache that would typically last the entire rest of the day.  Since starting with the sauna, I was able to shovel heavy snow for 1 1/2 hours straight 2 days in a row and NO headache either time.  It's seriously a miracle  I feel hopeful that I can once again start exercising!  I know more changes will come, and I do feel more energy during the day, so I'm excited to see what is ahead.  Thank you so much Julie!  We couldn't be happier and more thankful!\n",
      "   True: Valid --> Predicted: Valid\n",
      "\n",
      "Review: Thanks to Julie Bishop for helping one of my dreams to become the healthiest we can be. If you think you don’t have room. Think again. This is our walk in closet. I actually got rid of clothes, shoes, purses, and junk I thought I needed to get this to fit. It is beautiful inside and out. Going to use the first time today. Clearlight Infrared Sauna\n",
      "   True: Valid --> Predicted: Valid\n",
      "\n"
     ]
    }
   ],
   "source": [
    "# New reviews for walkthrough\n",
    "data_path = '../data/walk_through/walk_through.csv'\n",
    "new_reviews = pd.read_csv(data_path).copy()\n",
    "\n",
    "# Transform inputs\n",
    "new_tfidf = tfidf.transform(new_reviews[\"review_text\"])\n",
    "\n",
    "# Map sentiment strings to numbers\n",
    "sentiment_map = {\"POSITIVE\": 1, \"NEGATIVE\": -1, \"NEUTRAL\": 0}\n",
    "new_reviews[\"sentiment_num\"] = new_reviews[\"sentiment\"].map(sentiment_map)\n",
    "\n",
    "# Select numeric features\n",
    "numeric_cols = [\"rating\", \"review_length\", \"sentiment_num\", \"all_caps_ratio\", \"relevancy_score\"]\n",
    "new_numeric = new_reviews[numeric_cols].astype(float).values\n",
    "new_numeric_sparse = csr_matrix(new_numeric)\n",
    "\n",
    "# Combine features\n",
    "new_final = hstack([new_tfidf, new_numeric_sparse])\n",
    "\n",
    "# Predictions\n",
    "predictions = clf.predict(new_final)\n",
    "\n",
    "# Compare true vs predicted\n",
    "for review, true_label, pred in zip(new_reviews[\"review_text\"], new_reviews[\"label\"], predictions):\n",
    "    print(f\"Review: {review}\\n   True: {true_label} --> Predicted: {pred}\\n\")\n"
   ]
  },
  {
   "cell_type": "code",
   "execution_count": 57,
   "id": "fae7cf11",
   "metadata": {},
   "outputs": [
    {
     "name": "stdout",
     "output_type": "stream",
     "text": [
      "Accuracy: 0.98\n"
     ]
    }
   ],
   "source": [
    "from sklearn.metrics import accuracy_score\n",
    "\n",
    "accuracy = accuracy_score(new_reviews[\"label\"], predictions)\n",
    "print(\"Accuracy:\", accuracy)"
   ]
  }
 ],
 "metadata": {
  "kernelspec": {
   "display_name": ".venv (3.13.3)",
   "language": "python",
   "name": "python3"
  },
  "language_info": {
   "codemirror_mode": {
    "name": "ipython",
    "version": 3
   },
   "file_extension": ".py",
   "mimetype": "text/x-python",
   "name": "python",
   "nbconvert_exporter": "python",
   "pygments_lexer": "ipython3",
   "version": "3.13.3"
  }
 },
 "nbformat": 4,
 "nbformat_minor": 5
}
