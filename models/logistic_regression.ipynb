{
 "cells": [
  {
   "cell_type": "markdown",
   "id": "5882106b",
   "metadata": {},
   "source": [
    "### Import Required Packages"
   ]
  },
  {
   "cell_type": "code",
   "execution_count": 23,
   "id": "d53fb2f5",
   "metadata": {},
   "outputs": [],
   "source": [
    "import pandas as pd\n",
    "from sklearn.model_selection import train_test_split\n",
    "from sklearn.feature_extraction.text import TfidfVectorizer\n",
    "from sklearn.linear_model import LogisticRegression\n",
    "from sklearn.metrics import classification_report\n",
    "from scipy.sparse import hstack"
   ]
  },
  {
   "cell_type": "markdown",
   "id": "46c9bd64",
   "metadata": {},
   "source": [
    "### Logistic Regression"
   ]
  },
  {
   "cell_type": "code",
   "execution_count": 24,
   "id": "aeed9a96",
   "metadata": {},
   "outputs": [
    {
     "data": {
      "text/plain": [
       "(                                           review_text  rating  review_length  \\\n",
       " 0    Andrea is amazing. Our dog loves her and she a...       5              9   \n",
       " 1    Andrea does a wonderful  job  with our wild Pr...       5             11   \n",
       " 2                                    Never called back       1              1   \n",
       " 3                         They don't answer the phones       3              3   \n",
       " 4                   Limited information on the website       3              3   \n",
       " ..                                                 ...     ...            ...   \n",
       " 995                      Brett Williams is awesome!!!!       5              3   \n",
       " 996  they have they the kinds of cars a teen will n...       5              9   \n",
       " 997  I would not go back there for nothing, the gen...       1             10   \n",
       " 998                                     Awesome prices       5              2   \n",
       " 999                           Not the best but alright       2              2   \n",
       " \n",
       "     sentiment  all_caps_ratio  relevancy_score  \n",
       " 0    POSITIVE        0.000000               48  \n",
       " 1    POSITIVE        0.000000               47  \n",
       " 2    POSITIVE        0.000000               41  \n",
       " 3    NEGATIVE        0.000000               42  \n",
       " 4    NEGATIVE        0.000000               42  \n",
       " ..        ...             ...              ...  \n",
       " 995  POSITIVE        0.000000               41  \n",
       " 996  NEGATIVE        0.000000               48  \n",
       " 997  NEGATIVE        0.043478               61  \n",
       " 998  POSITIVE        0.000000               40  \n",
       " 999  POSITIVE        0.000000               42  \n",
       " \n",
       " [1000 rows x 6 columns],\n",
       "                                            review_text  rating  review_length  \\\n",
       " 0    I ordered a number of baby and maternity items...       5             22   \n",
       " 1                                     Prices too high!       3              2   \n",
       " 2    Perfect activity for a perfect day.  The crowd...       5             10   \n",
       " 3    Clean & modern house ,\\nfresh flowers everywhe...       5             12   \n",
       " 4    Excellent option and easier access to Tijuana'...       5              6   \n",
       " ..                                                 ...     ...            ...   \n",
       " 195  (Translated by Google) Very happy with my firs...       5            198   \n",
       " 196  Fantastic food and staff. It was very busy whe...       5             12   \n",
       " 197                       Awesome food from far places       5              4   \n",
       " 198  Well, honestly, I should give 3 instead of 4, ...       4             33   \n",
       " 199                   History, man. Plus architecture.       5              4   \n",
       " \n",
       "     sentiment  all_caps_ratio  relevancy_score  \n",
       " 0    POSITIVE        0.069767               59  \n",
       " 1    NEGATIVE        0.000000               41  \n",
       " 2    POSITIVE        0.000000               47  \n",
       " 3    POSITIVE        0.000000               46  \n",
       " 4    POSITIVE        0.000000               43  \n",
       " ..        ...             ...              ...  \n",
       " 195  NEGATIVE        0.003650              100  \n",
       " 196  POSITIVE        0.000000               53  \n",
       " 197  POSITIVE        0.000000               42  \n",
       " 198  POSITIVE        0.036585               80  \n",
       " 199  POSITIVE        0.000000               41  \n",
       " \n",
       " [200 rows x 6 columns],\n",
       " 0      Irrelevant\n",
       " 1      Irrelevant\n",
       " 2            Rant\n",
       " 3            Rant\n",
       " 4      Irrelevant\n",
       "           ...    \n",
       " 995    Irrelevant\n",
       " 996    Irrelevant\n",
       " 997          Rant\n",
       " 998    Irrelevant\n",
       " 999    Irrelevant\n",
       " Name: label, Length: 1000, dtype: object,\n",
       " 0      Valid\n",
       " 1       Rant\n",
       " 2      Valid\n",
       " 3      Valid\n",
       " 4      Valid\n",
       "        ...  \n",
       " 195    Valid\n",
       " 196    Valid\n",
       " 197    Valid\n",
       " 198    Valid\n",
       " 199    Valid\n",
       " Name: label, Length: 200, dtype: object)"
      ]
     },
     "execution_count": 24,
     "metadata": {},
     "output_type": "execute_result"
    }
   ],
   "source": [
    "# Insert Qwen labelled data\n",
    "train_data = pd.read_csv(\"../data/with_features/qwen_labelled_combined_reviews_with_features.csv\")\n",
    "\n",
    "# Insert hand labelled data\n",
    "test_data = pd.read_csv(\"../data/with_features/hand_labelled_combined_reviews_with_features.csv\")\n",
    "\n",
    "X_train= train_data[[\"review_text\", \"rating\", \"review_length\",\"sentiment\", \"all_caps_ratio\",\"relevancy_score\"]]\n",
    "y_train= train_data[\"label\"]\n",
    "\n",
    "X_test=test_data[[\"review_text\", \"rating\", \"review_length\",\"sentiment\", \"all_caps_ratio\",\"relevancy_score\"]]\n",
    "y_test=test_data[\"label\"]\n",
    "\n",
    "X_train, X_test, y_train, y_test"
   ]
  },
  {
   "cell_type": "code",
   "execution_count": 25,
   "id": "01a389c6",
   "metadata": {},
   "outputs": [
    {
     "name": "stdout",
     "output_type": "stream",
     "text": [
      "(1000, 5000)\n",
      "(200, 5000)\n"
     ]
    }
   ],
   "source": [
    "# Turn words into numbers\n",
    "tfidf = TfidfVectorizer(max_features=5000, stop_words=\"english\", ngram_range=(1,2))\n",
    "\n",
    "X_train_tfidf = tfidf.fit_transform(X_train[\"review_text\"])\n",
    "X_test_tfidf = tfidf.transform(X_test[\"review_text\"])\n",
    "\n",
    "print(X_train_tfidf.shape)\n",
    "print(X_test_tfidf.shape)"
   ]
  },
  {
   "cell_type": "code",
   "execution_count": 26,
   "id": "71bc7173",
   "metadata": {},
   "outputs": [
    {
     "name": "stdout",
     "output_type": "stream",
     "text": [
      "(1000, 5005)\n",
      "(200, 5005)\n"
     ]
    }
   ],
   "source": [
    "# Numeric features \n",
    "\n",
    "# Store as numeric arrays\n",
    "numeric_cols = [\"rating\", \"review_length\",\"sentiment\", \"all_caps_ratio\",\"relevancy_score\"]\n",
    "X_train_numeric = X_train[numeric_cols].apply(pd.to_numeric, errors='coerce').fillna(0).values\n",
    "X_test_numeric  = X_test[numeric_cols].apply(pd.to_numeric, errors='coerce').fillna(0).values\n",
    "\n",
    "# Combine TF-IDF + numeric\n",
    "X_train_final = hstack([X_train_tfidf, X_train_numeric])\n",
    "X_test_final = hstack([X_test_tfidf, X_test_numeric])\n",
    "\n",
    "print(X_train_final.shape)\n",
    "print(X_test_final.shape)"
   ]
  },
  {
   "cell_type": "markdown",
   "id": "d76be463",
   "metadata": {},
   "source": [
    "### Train Model"
   ]
  },
  {
   "cell_type": "code",
   "execution_count": 27,
   "id": "9e53ee61",
   "metadata": {},
   "outputs": [],
   "source": [
    "clf = LogisticRegression(max_iter=1000, class_weight=\"balanced\")\n",
    "clf.fit(X_train_final, y_train)\n",
    "\n",
    "y_pred = clf.predict(X_test_final)"
   ]
  },
  {
   "cell_type": "markdown",
   "id": "cb61b1fd",
   "metadata": {},
   "source": [
    "### Results"
   ]
  },
  {
   "cell_type": "code",
   "execution_count": 28,
   "id": "b6636e9e",
   "metadata": {},
   "outputs": [
    {
     "name": "stdout",
     "output_type": "stream",
     "text": [
      "Classification Report:\n",
      "              precision    recall  f1-score   support\n",
      "\n",
      "          Ad       0.20      0.20      0.20        10\n",
      "  Irrelevant       0.10      0.71      0.18         7\n",
      "        Rant       0.79      0.79      0.79        14\n",
      "       Valid       0.94      0.70      0.81       169\n",
      "\n",
      "    accuracy                           0.69       200\n",
      "   macro avg       0.51      0.60      0.49       200\n",
      "weighted avg       0.87      0.69      0.75       200\n",
      "\n"
     ]
    }
   ],
   "source": [
    "print(\"Classification Report:\")\n",
    "print(classification_report(y_test, y_pred))"
   ]
  },
  {
   "cell_type": "code",
   "execution_count": 29,
   "id": "10eeea03",
   "metadata": {},
   "outputs": [
    {
     "ename": "TypeError",
     "evalue": "string indices must be integers, not 'str'",
     "output_type": "error",
     "traceback": [
      "\u001b[31m---------------------------------------------------------------------------\u001b[39m",
      "\u001b[31mTypeError\u001b[39m                                 Traceback (most recent call last)",
      "\u001b[36mCell\u001b[39m\u001b[36m \u001b[39m\u001b[32mIn[29]\u001b[39m\u001b[32m, line 5\u001b[39m\n\u001b[32m      2\u001b[39m new_reviews = \u001b[33m\"\u001b[39m\u001b[33m\"\u001b[39m\n\u001b[32m      4\u001b[39m \u001b[38;5;66;03m# Transform inputs\u001b[39;00m\n\u001b[32m----> \u001b[39m\u001b[32m5\u001b[39m new_tfidf = tfidf.transform(\u001b[43mnew_reviews\u001b[49m\u001b[43m[\u001b[49m\u001b[33;43m\"\u001b[39;49m\u001b[33;43mreview_text\u001b[39;49m\u001b[33;43m\"\u001b[39;49m\u001b[43m]\u001b[49m)\n\u001b[32m      6\u001b[39m new_numeric = new_reviews[[\u001b[33m\"\u001b[39m\u001b[33mrating\u001b[39m\u001b[33m\"\u001b[39m, \u001b[33m\"\u001b[39m\u001b[33mreview_length\u001b[39m\u001b[33m\"\u001b[39m,\u001b[33m\"\u001b[39m\u001b[33msentiment\u001b[39m\u001b[33m\"\u001b[39m, \u001b[33m\"\u001b[39m\u001b[33mall_caps_ratio\u001b[39m\u001b[33m\"\u001b[39m,\u001b[33m\"\u001b[39m\u001b[33mrelevancy_score\u001b[39m\u001b[33m\"\u001b[39m]].values\n\u001b[32m      7\u001b[39m new_final = hstack([new_tfidf, new_numeric])\n",
      "\u001b[31mTypeError\u001b[39m: string indices must be integers, not 'str'"
     ]
    }
   ],
   "source": [
    "# Insert new reviews if we want to show how it works\n",
    "new_reviews = \"\"\n",
    "\n",
    "# Transform inputs\n",
    "new_tfidf = tfidf.transform(new_reviews[\"review_text\"])\n",
    "new_numeric = new_reviews[[\"rating\", \"review_length\",\"sentiment\", \"all_caps_ratio\",\"relevancy_score\"]].values\n",
    "new_final = hstack([new_tfidf, new_numeric])\n",
    "\n",
    "# Predictions\n",
    "predictions = clf.predict(new_final)\n",
    "\n",
    "# Compare true vs predicted\n",
    "for review, true_label, pred in zip(new_reviews[\"text\"], new_reviews[\"label\"], predictions):\n",
    "    print(f\"Review: {review}\\n   True: {true_label} --> Predicted: {pred}\\n\")\n"
   ]
  },
  {
   "cell_type": "code",
   "execution_count": null,
   "id": "fae7cf11",
   "metadata": {},
   "outputs": [],
   "source": [
    "from sklearn.metrics import accuracy_score\n",
    "\n",
    "accuracy = accuracy_score(new_reviews[\"label\"], predictions)\n",
    "print(\"Accuracy:\", accuracy)"
   ]
  }
 ],
 "metadata": {
  "kernelspec": {
   "display_name": ".venv (3.13.3)",
   "language": "python",
   "name": "python3"
  },
  "language_info": {
   "codemirror_mode": {
    "name": "ipython",
    "version": 3
   },
   "file_extension": ".py",
   "mimetype": "text/x-python",
   "name": "python",
   "nbconvert_exporter": "python",
   "pygments_lexer": "ipython3",
   "version": "3.13.3"
  }
 },
 "nbformat": 4,
 "nbformat_minor": 5
}
